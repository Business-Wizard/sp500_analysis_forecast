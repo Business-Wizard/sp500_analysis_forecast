{
 "metadata": {
  "language_info": {
   "codemirror_mode": {
    "name": "ipython",
    "version": 3
   },
   "file_extension": ".py",
   "mimetype": "text/x-python",
   "name": "python",
   "nbconvert_exporter": "python",
   "pygments_lexer": "ipython3",
   "version": "3.7.7-final"
  },
  "orig_nbformat": 2,
  "kernelspec": {
   "name": "python3",
   "display_name": "Python 3"
  }
 },
 "nbformat": 4,
 "nbformat_minor": 2,
 "cells": [
  {
   "cell_type": "code",
   "execution_count": 1,
   "metadata": {},
   "outputs": [],
   "source": [
    "import pandas as pd\n",
    "# table=pd.read_html('https://en.wikipedia.org/wiki/List_of_S%26P_500_companies')\n",
    "table=pd.read_html('https://bigcharts.marketwatch.com/markets/indexes.asp')\n",
    "df = table[0]\n",
    "df.to_csv('S&P500-Info.csv')\n",
    "df.to_csv(\"S&P500-Symbols.csv\", columns=['Symbol'])\n",
    "df.to_csv(\"S&P500-Name.csv\", columns=['Market Index'])"
   ]
  },
  {
   "cell_type": "code",
   "execution_count": 2,
   "metadata": {},
   "outputs": [
    {
     "output_type": "execute_result",
     "data": {
      "text/plain": [
       "                             Market Index Symbol            As Of:  \\\n",
       "0            Dow Jones Industrial Average   DJIA  12/3/20205:03 PM   \n",
       "1        Dow Jones Transportation Average    DJT  12/3/20205:03 PM   \n",
       "2         Dow Jones Utility Average Index    DJU  12/3/20205:03 PM   \n",
       "3   NASDAQ 100 Index (NASDAQ Calculation)    NDX  12/3/20205:16 PM   \n",
       "4                  NASDAQ Composite Index   COMP  12/3/20205:16 PM   \n",
       "5                    NYSE Composite Index    NYA  12/3/20205:59 PM   \n",
       "6                           S&P 500 Index    SPX  12/3/20205:03 PM   \n",
       "7                   S&P 400 Mid Cap Index    MID  12/3/20205:03 PM   \n",
       "8                           S&P 100 Index    OEX  12/3/20204:03 PM   \n",
       "9                   NASDAQ Computer Index   IXCO  12/3/20205:16 PM   \n",
       "10               PHLX Semiconductor Index    SOX  12/3/20205:16 PM   \n",
       "11                 PHLX Gold/Silver Index    XAU  12/3/20205:16 PM   \n",
       "12                    NYSE Arca Oil Index    XOI  12/3/20205:59 PM   \n",
       "13                     Russell 2000 Index    RUT  12/3/20204:30 PM   \n",
       "\n",
       "          Last  Change % Change  Go to:  \n",
       "0   29969.5200   85.73   +0.29%     NaN  \n",
       "1   12586.8200   40.28   +0.32%     NaN  \n",
       "2     866.8900   -7.77   -0.89%     NaN  \n",
       "3   12467.1290   10.72   +0.09%     NaN  \n",
       "4   12377.1815   27.82   +0.23%     NaN  \n",
       "5   14217.1847   28.94   +0.20%     NaN  \n",
       "6    3666.7200   -2.29   -0.06%     NaN  \n",
       "7    2203.4800   11.61   +0.53%     NaN  \n",
       "8    1682.2400   -2.78   -0.16%     NaN  \n",
       "9    8521.3807   -9.25   -0.11%     NaN  \n",
       "10   2716.1541   -0.20   -0.01%     NaN  \n",
       "11    139.6015   -1.04   -0.74%     NaN  \n",
       "12    785.5105    8.83   +1.14%     NaN  \n",
       "13   1848.7018   10.67   +0.58%     NaN  "
      ],
      "text/html": "<div>\n<style scoped>\n    .dataframe tbody tr th:only-of-type {\n        vertical-align: middle;\n    }\n\n    .dataframe tbody tr th {\n        vertical-align: top;\n    }\n\n    .dataframe thead th {\n        text-align: right;\n    }\n</style>\n<table border=\"1\" class=\"dataframe\">\n  <thead>\n    <tr style=\"text-align: right;\">\n      <th></th>\n      <th>Market Index</th>\n      <th>Symbol</th>\n      <th>As Of:</th>\n      <th>Last</th>\n      <th>Change</th>\n      <th>% Change</th>\n      <th>Go to:</th>\n    </tr>\n  </thead>\n  <tbody>\n    <tr>\n      <th>0</th>\n      <td>Dow Jones Industrial Average</td>\n      <td>DJIA</td>\n      <td>12/3/20205:03 PM</td>\n      <td>29969.5200</td>\n      <td>85.73</td>\n      <td>+0.29%</td>\n      <td>NaN</td>\n    </tr>\n    <tr>\n      <th>1</th>\n      <td>Dow Jones Transportation Average</td>\n      <td>DJT</td>\n      <td>12/3/20205:03 PM</td>\n      <td>12586.8200</td>\n      <td>40.28</td>\n      <td>+0.32%</td>\n      <td>NaN</td>\n    </tr>\n    <tr>\n      <th>2</th>\n      <td>Dow Jones Utility Average Index</td>\n      <td>DJU</td>\n      <td>12/3/20205:03 PM</td>\n      <td>866.8900</td>\n      <td>-7.77</td>\n      <td>-0.89%</td>\n      <td>NaN</td>\n    </tr>\n    <tr>\n      <th>3</th>\n      <td>NASDAQ 100 Index (NASDAQ Calculation)</td>\n      <td>NDX</td>\n      <td>12/3/20205:16 PM</td>\n      <td>12467.1290</td>\n      <td>10.72</td>\n      <td>+0.09%</td>\n      <td>NaN</td>\n    </tr>\n    <tr>\n      <th>4</th>\n      <td>NASDAQ Composite Index</td>\n      <td>COMP</td>\n      <td>12/3/20205:16 PM</td>\n      <td>12377.1815</td>\n      <td>27.82</td>\n      <td>+0.23%</td>\n      <td>NaN</td>\n    </tr>\n    <tr>\n      <th>5</th>\n      <td>NYSE Composite Index</td>\n      <td>NYA</td>\n      <td>12/3/20205:59 PM</td>\n      <td>14217.1847</td>\n      <td>28.94</td>\n      <td>+0.20%</td>\n      <td>NaN</td>\n    </tr>\n    <tr>\n      <th>6</th>\n      <td>S&amp;P 500 Index</td>\n      <td>SPX</td>\n      <td>12/3/20205:03 PM</td>\n      <td>3666.7200</td>\n      <td>-2.29</td>\n      <td>-0.06%</td>\n      <td>NaN</td>\n    </tr>\n    <tr>\n      <th>7</th>\n      <td>S&amp;P 400 Mid Cap Index</td>\n      <td>MID</td>\n      <td>12/3/20205:03 PM</td>\n      <td>2203.4800</td>\n      <td>11.61</td>\n      <td>+0.53%</td>\n      <td>NaN</td>\n    </tr>\n    <tr>\n      <th>8</th>\n      <td>S&amp;P 100 Index</td>\n      <td>OEX</td>\n      <td>12/3/20204:03 PM</td>\n      <td>1682.2400</td>\n      <td>-2.78</td>\n      <td>-0.16%</td>\n      <td>NaN</td>\n    </tr>\n    <tr>\n      <th>9</th>\n      <td>NASDAQ Computer Index</td>\n      <td>IXCO</td>\n      <td>12/3/20205:16 PM</td>\n      <td>8521.3807</td>\n      <td>-9.25</td>\n      <td>-0.11%</td>\n      <td>NaN</td>\n    </tr>\n    <tr>\n      <th>10</th>\n      <td>PHLX Semiconductor Index</td>\n      <td>SOX</td>\n      <td>12/3/20205:16 PM</td>\n      <td>2716.1541</td>\n      <td>-0.20</td>\n      <td>-0.01%</td>\n      <td>NaN</td>\n    </tr>\n    <tr>\n      <th>11</th>\n      <td>PHLX Gold/Silver Index</td>\n      <td>XAU</td>\n      <td>12/3/20205:16 PM</td>\n      <td>139.6015</td>\n      <td>-1.04</td>\n      <td>-0.74%</td>\n      <td>NaN</td>\n    </tr>\n    <tr>\n      <th>12</th>\n      <td>NYSE Arca Oil Index</td>\n      <td>XOI</td>\n      <td>12/3/20205:59 PM</td>\n      <td>785.5105</td>\n      <td>8.83</td>\n      <td>+1.14%</td>\n      <td>NaN</td>\n    </tr>\n    <tr>\n      <th>13</th>\n      <td>Russell 2000 Index</td>\n      <td>RUT</td>\n      <td>12/3/20204:30 PM</td>\n      <td>1848.7018</td>\n      <td>10.67</td>\n      <td>+0.58%</td>\n      <td>NaN</td>\n    </tr>\n  </tbody>\n</table>\n</div>"
     },
     "metadata": {},
     "execution_count": 2
    }
   ],
   "source": [
    "df"
   ]
  },
  {
   "cell_type": "code",
   "execution_count": 47,
   "metadata": {},
   "outputs": [
    {
     "output_type": "error",
     "ename": "IndentationError",
     "evalue": "expected an indented block (<ipython-input-47-8ed70d7d2acf>, line 7)",
     "traceback": [
      "\u001b[0;36m  File \u001b[0;32m\"<ipython-input-47-8ed70d7d2acf>\"\u001b[0;36m, line \u001b[0;32m7\u001b[0m\n\u001b[0;31m    for n in range(len(fd)):\u001b[0m\n\u001b[0m                            ^\u001b[0m\n\u001b[0;31mIndentationError\u001b[0m\u001b[0;31m:\u001b[0m expected an indented block\n"
     ]
    }
   ],
   "source": [
    "fd = pd.read_csv(\"S&P500-Name.csv\")['Market Index']\n",
    "# lst = [fd[0], fd[4],fd[5],fd[6], fd[13]]\n",
    "index_names = []\n",
    "\n",
    "for idx in fd:\n",
    "    if idx in lst:\n",
    "for n in range(len(fd)):\n",
    "    lst = [0,4,5,6,13]\n",
    "    if n in lst:\n",
    "        index_names.append(df.iloc[n][0])\n",
    "index_names"
   ]
  },
  {
   "cell_type": "code",
   "execution_count": 39,
   "metadata": {},
   "outputs": [
    {
     "output_type": "execute_result",
     "data": {
      "text/plain": [
       "['Dow Jones Industrial Average',\n",
       " 'NASDAQ Composite Index',\n",
       " 'NYSE Composite Index',\n",
       " 'S&P 500 Index',\n",
       " 'Russell 2000 Index']"
      ]
     },
     "metadata": {},
     "execution_count": 39
    }
   ],
   "source": [
    "index_name = []\n",
    "lst = [0,4,5,6,13]\n",
    "for l in lst:\n",
    "    index_name.append(fd[l])\n",
    "index_name"
   ]
  },
  {
   "cell_type": "code",
   "execution_count": 40,
   "metadata": {},
   "outputs": [
    {
     "output_type": "execute_result",
     "data": {
      "text/plain": [
       "['Dow_Jones_Industrial_Average',\n",
       " 'NASDAQ_Composite_Index',\n",
       " 'NYSE_Composite_Index',\n",
       " 'S&P_500_Index',\n",
       " 'Russell_2000_Index']"
      ]
     },
     "metadata": {},
     "execution_count": 40
    }
   ],
   "source": [
    "index_names =[]\n",
    "for i in index_name:\n",
    "    lst = list(i)\n",
    "    columns = lst\n",
    "    col = [column.replace(' ', '_') for column in columns]\n",
    "    string = ''\n",
    "    for c in col:\n",
    "        string += c\n",
    "    # i = string\n",
    "    index_names.append(string)\n",
    "index_names"
   ]
  },
  {
   "cell_type": "code",
   "execution_count": 3,
   "metadata": {},
   "outputs": [],
   "source": [
    "index_names = []\n",
    "index_tickers = []\n",
    "for n in range(len(df)):\n",
    "    lst = [0,4,5,6, 13]\n",
    "    if n in lst:\n",
    "        index_names.append(df.iloc[n][0])\n",
    "        index_tickers.append(df.iloc[n][1])"
   ]
  },
  {
   "cell_type": "code",
   "execution_count": 4,
   "metadata": {},
   "outputs": [
    {
     "output_type": "execute_result",
     "data": {
      "text/plain": [
       "['Dow Jones Industrial Average',\n",
       " 'NASDAQ Composite Index',\n",
       " 'NYSE Composite Index',\n",
       " 'S&P 500 Index',\n",
       " 'Russell 2000 Index']"
      ]
     },
     "metadata": {},
     "execution_count": 4
    }
   ],
   "source": [
    "index_names"
   ]
  },
  {
   "cell_type": "code",
   "execution_count": 11,
   "metadata": {},
   "outputs": [
    {
     "output_type": "execute_result",
     "data": {
      "text/plain": [
       "['DJIA', 'COMP', 'NYA', 'SPX', 'RUT']"
      ]
     },
     "metadata": {},
     "execution_count": 11
    }
   ],
   "source": [
    "index_tickers"
   ]
  },
  {
   "cell_type": "code",
   "execution_count": 13,
   "metadata": {},
   "outputs": [
    {
     "output_type": "stream",
     "name": "stdout",
     "text": [
      "[*********************100%***********************]  1 of 1 completed\n"
     ]
    },
    {
     "output_type": "execute_result",
     "data": {
      "text/plain": [
       "                    Open          High           Low         Close  \\\n",
       "Date                                                                 \n",
       "2010-12-06  11381.330078  11422.660156  11313.599609  11362.190430   \n",
       "2010-12-07  11363.849609  11507.269531  11327.679688  11359.160156   \n",
       "2010-12-08  11354.450195  11441.620117  11281.429688  11372.480469   \n",
       "2010-12-09  11370.440430  11449.370117  11293.769531  11370.059570   \n",
       "2010-12-10  11370.440430  11446.650391  11326.009766  11410.320312   \n",
       "...                  ...           ...           ...           ...   \n",
       "2020-11-27  29911.330078  30015.130859  29819.980469  29910.369141   \n",
       "2020-11-30  29854.509766  29854.509766  29463.640625  29638.640625   \n",
       "2020-12-01  29797.500000  30083.310547  29797.500000  29823.919922   \n",
       "2020-12-02  29695.089844  29902.509766  29599.289062  29883.789062   \n",
       "2020-12-03  29920.830078  30110.880859  29877.269531  29969.519531   \n",
       "\n",
       "               Adj Close      Volume  \n",
       "Date                                  \n",
       "2010-12-06  11362.190430  3527370000  \n",
       "2010-12-07  11359.160156  6970630000  \n",
       "2010-12-08  11372.480469  4607590000  \n",
       "2010-12-09  11370.059570  4522510000  \n",
       "2010-12-10  11410.320312  4547310000  \n",
       "...                  ...         ...  \n",
       "2020-11-27  29910.369141  2778450000  \n",
       "2020-11-30  29638.640625  6291400000  \n",
       "2020-12-01  29823.919922  5403660000  \n",
       "2020-12-02  29883.789062  5029620000  \n",
       "2020-12-03  29969.519531  5091760000  \n",
       "\n",
       "[2517 rows x 6 columns]"
      ],
      "text/html": "<div>\n<style scoped>\n    .dataframe tbody tr th:only-of-type {\n        vertical-align: middle;\n    }\n\n    .dataframe tbody tr th {\n        vertical-align: top;\n    }\n\n    .dataframe thead th {\n        text-align: right;\n    }\n</style>\n<table border=\"1\" class=\"dataframe\">\n  <thead>\n    <tr style=\"text-align: right;\">\n      <th></th>\n      <th>Open</th>\n      <th>High</th>\n      <th>Low</th>\n      <th>Close</th>\n      <th>Adj Close</th>\n      <th>Volume</th>\n    </tr>\n    <tr>\n      <th>Date</th>\n      <th></th>\n      <th></th>\n      <th></th>\n      <th></th>\n      <th></th>\n      <th></th>\n    </tr>\n  </thead>\n  <tbody>\n    <tr>\n      <th>2010-12-06</th>\n      <td>11381.330078</td>\n      <td>11422.660156</td>\n      <td>11313.599609</td>\n      <td>11362.190430</td>\n      <td>11362.190430</td>\n      <td>3527370000</td>\n    </tr>\n    <tr>\n      <th>2010-12-07</th>\n      <td>11363.849609</td>\n      <td>11507.269531</td>\n      <td>11327.679688</td>\n      <td>11359.160156</td>\n      <td>11359.160156</td>\n      <td>6970630000</td>\n    </tr>\n    <tr>\n      <th>2010-12-08</th>\n      <td>11354.450195</td>\n      <td>11441.620117</td>\n      <td>11281.429688</td>\n      <td>11372.480469</td>\n      <td>11372.480469</td>\n      <td>4607590000</td>\n    </tr>\n    <tr>\n      <th>2010-12-09</th>\n      <td>11370.440430</td>\n      <td>11449.370117</td>\n      <td>11293.769531</td>\n      <td>11370.059570</td>\n      <td>11370.059570</td>\n      <td>4522510000</td>\n    </tr>\n    <tr>\n      <th>2010-12-10</th>\n      <td>11370.440430</td>\n      <td>11446.650391</td>\n      <td>11326.009766</td>\n      <td>11410.320312</td>\n      <td>11410.320312</td>\n      <td>4547310000</td>\n    </tr>\n    <tr>\n      <th>...</th>\n      <td>...</td>\n      <td>...</td>\n      <td>...</td>\n      <td>...</td>\n      <td>...</td>\n      <td>...</td>\n    </tr>\n    <tr>\n      <th>2020-11-27</th>\n      <td>29911.330078</td>\n      <td>30015.130859</td>\n      <td>29819.980469</td>\n      <td>29910.369141</td>\n      <td>29910.369141</td>\n      <td>2778450000</td>\n    </tr>\n    <tr>\n      <th>2020-11-30</th>\n      <td>29854.509766</td>\n      <td>29854.509766</td>\n      <td>29463.640625</td>\n      <td>29638.640625</td>\n      <td>29638.640625</td>\n      <td>6291400000</td>\n    </tr>\n    <tr>\n      <th>2020-12-01</th>\n      <td>29797.500000</td>\n      <td>30083.310547</td>\n      <td>29797.500000</td>\n      <td>29823.919922</td>\n      <td>29823.919922</td>\n      <td>5403660000</td>\n    </tr>\n    <tr>\n      <th>2020-12-02</th>\n      <td>29695.089844</td>\n      <td>29902.509766</td>\n      <td>29599.289062</td>\n      <td>29883.789062</td>\n      <td>29883.789062</td>\n      <td>5029620000</td>\n    </tr>\n    <tr>\n      <th>2020-12-03</th>\n      <td>29920.830078</td>\n      <td>30110.880859</td>\n      <td>29877.269531</td>\n      <td>29969.519531</td>\n      <td>29969.519531</td>\n      <td>5091760000</td>\n    </tr>\n  </tbody>\n</table>\n<p>2517 rows × 6 columns</p>\n</div>"
     },
     "metadata": {},
     "execution_count": 13
    }
   ],
   "source": [
    "import yfinance as yf\n",
    "\n",
    "yf.download('DJIA', period = '10y', interval = '1d', parse_dates = True, index_col=0)"
   ]
  },
  {
   "cell_type": "code",
   "execution_count": 46,
   "metadata": {},
   "outputs": [
    {
     "output_type": "execute_result",
     "data": {
      "text/plain": [
       "'DJIA_COMP_NYA_SPX_RUT_'"
      ]
     },
     "metadata": {},
     "execution_count": 46
    }
   ],
   "source": [
    "string = ''\n",
    "for i in index_tickers:\n",
    "    string += (i + '_')\n",
    "string"
   ]
  },
  {
   "cell_type": "code",
   "execution_count": null,
   "metadata": {},
   "outputs": [],
   "source": []
  },
  {
   "cell_type": "code",
   "execution_count": 19,
   "metadata": {},
   "outputs": [
    {
     "output_type": "stream",
     "name": "stdout",
     "text": [
      "[*********************100%***********************]  1 of 1 completed\n"
     ]
    },
    {
     "output_type": "execute_result",
     "data": {
      "text/plain": [
       "                    Open          High           Low         Close  \\\n",
       "Date                                                                 \n",
       "2019-12-04  27634.630859  27727.449219  27612.080078  27649.779297   \n",
       "2019-12-05  27736.050781  27745.199219  27562.800781  27677.789062   \n",
       "2019-12-06  27839.679688  28035.849609  27839.679688  28015.060547   \n",
       "2019-12-09  27987.050781  28010.419922  27906.140625  27909.599609   \n",
       "2019-12-10  27900.650391  27949.019531  27804.000000  27881.720703   \n",
       "...                  ...           ...           ...           ...   \n",
       "2020-11-27  29911.330078  30015.130859  29819.980469  29910.369141   \n",
       "2020-11-30  29854.509766  29854.509766  29463.640625  29638.640625   \n",
       "2020-12-01  29797.500000  30083.310547  29797.500000  29823.919922   \n",
       "2020-12-02  29695.089844  29902.509766  29599.289062  29883.789062   \n",
       "2020-12-03  29920.830078  30110.880859  29877.269531  29969.519531   \n",
       "\n",
       "               Adj Close      Volume  \n",
       "Date                                  \n",
       "2019-12-04  27649.779297  3695030000  \n",
       "2019-12-05  27677.789062  3355750000  \n",
       "2019-12-06  28015.060547  3479480000  \n",
       "2019-12-09  27909.599609  3345990000  \n",
       "2019-12-10  27881.720703  3343790000  \n",
       "...                  ...         ...  \n",
       "2020-11-27  29910.369141  2778450000  \n",
       "2020-11-30  29638.640625  6291400000  \n",
       "2020-12-01  29823.919922  5403660000  \n",
       "2020-12-02  29883.789062  5029620000  \n",
       "2020-12-03  29969.519531  5091760000  \n",
       "\n",
       "[253 rows x 6 columns]"
      ],
      "text/html": "<div>\n<style scoped>\n    .dataframe tbody tr th:only-of-type {\n        vertical-align: middle;\n    }\n\n    .dataframe tbody tr th {\n        vertical-align: top;\n    }\n\n    .dataframe thead th {\n        text-align: right;\n    }\n</style>\n<table border=\"1\" class=\"dataframe\">\n  <thead>\n    <tr style=\"text-align: right;\">\n      <th></th>\n      <th>Open</th>\n      <th>High</th>\n      <th>Low</th>\n      <th>Close</th>\n      <th>Adj Close</th>\n      <th>Volume</th>\n    </tr>\n    <tr>\n      <th>Date</th>\n      <th></th>\n      <th></th>\n      <th></th>\n      <th></th>\n      <th></th>\n      <th></th>\n    </tr>\n  </thead>\n  <tbody>\n    <tr>\n      <th>2019-12-04</th>\n      <td>27634.630859</td>\n      <td>27727.449219</td>\n      <td>27612.080078</td>\n      <td>27649.779297</td>\n      <td>27649.779297</td>\n      <td>3695030000</td>\n    </tr>\n    <tr>\n      <th>2019-12-05</th>\n      <td>27736.050781</td>\n      <td>27745.199219</td>\n      <td>27562.800781</td>\n      <td>27677.789062</td>\n      <td>27677.789062</td>\n      <td>3355750000</td>\n    </tr>\n    <tr>\n      <th>2019-12-06</th>\n      <td>27839.679688</td>\n      <td>28035.849609</td>\n      <td>27839.679688</td>\n      <td>28015.060547</td>\n      <td>28015.060547</td>\n      <td>3479480000</td>\n    </tr>\n    <tr>\n      <th>2019-12-09</th>\n      <td>27987.050781</td>\n      <td>28010.419922</td>\n      <td>27906.140625</td>\n      <td>27909.599609</td>\n      <td>27909.599609</td>\n      <td>3345990000</td>\n    </tr>\n    <tr>\n      <th>2019-12-10</th>\n      <td>27900.650391</td>\n      <td>27949.019531</td>\n      <td>27804.000000</td>\n      <td>27881.720703</td>\n      <td>27881.720703</td>\n      <td>3343790000</td>\n    </tr>\n    <tr>\n      <th>...</th>\n      <td>...</td>\n      <td>...</td>\n      <td>...</td>\n      <td>...</td>\n      <td>...</td>\n      <td>...</td>\n    </tr>\n    <tr>\n      <th>2020-11-27</th>\n      <td>29911.330078</td>\n      <td>30015.130859</td>\n      <td>29819.980469</td>\n      <td>29910.369141</td>\n      <td>29910.369141</td>\n      <td>2778450000</td>\n    </tr>\n    <tr>\n      <th>2020-11-30</th>\n      <td>29854.509766</td>\n      <td>29854.509766</td>\n      <td>29463.640625</td>\n      <td>29638.640625</td>\n      <td>29638.640625</td>\n      <td>6291400000</td>\n    </tr>\n    <tr>\n      <th>2020-12-01</th>\n      <td>29797.500000</td>\n      <td>30083.310547</td>\n      <td>29797.500000</td>\n      <td>29823.919922</td>\n      <td>29823.919922</td>\n      <td>5403660000</td>\n    </tr>\n    <tr>\n      <th>2020-12-02</th>\n      <td>29695.089844</td>\n      <td>29902.509766</td>\n      <td>29599.289062</td>\n      <td>29883.789062</td>\n      <td>29883.789062</td>\n      <td>5029620000</td>\n    </tr>\n    <tr>\n      <th>2020-12-03</th>\n      <td>29920.830078</td>\n      <td>30110.880859</td>\n      <td>29877.269531</td>\n      <td>29969.519531</td>\n      <td>29969.519531</td>\n      <td>5091760000</td>\n    </tr>\n  </tbody>\n</table>\n<p>253 rows × 6 columns</p>\n</div>"
     },
     "metadata": {},
     "execution_count": 19
    }
   ],
   "source": [
    "import yfinance as yf\n",
    "\n",
    "yf.download('DJIA',period='1y',interval='1d')"
   ]
  },
  {
   "cell_type": "code",
   "execution_count": null,
   "metadata": {},
   "outputs": [],
   "source": []
  }
 ]
}