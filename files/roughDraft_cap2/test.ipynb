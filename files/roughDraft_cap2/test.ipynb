{
 "metadata": {
  "language_info": {
   "codemirror_mode": {
    "name": "ipython",
    "version": 3
   },
   "file_extension": ".py",
   "mimetype": "text/x-python",
   "name": "python",
   "nbconvert_exporter": "python",
   "pygments_lexer": "ipython3",
   "version": "3.7.7-final"
  },
  "orig_nbformat": 2,
  "kernelspec": {
   "name": "python3",
   "display_name": "Python 3"
  }
 },
 "nbformat": 4,
 "nbformat_minor": 2,
 "cells": [
  {
   "cell_type": "code",
   "execution_count": 1,
   "metadata": {},
   "outputs": [
    {
     "output_type": "stream",
     "name": "stdout",
     "text": [
      "time: 2.09 ms\n"
     ]
    }
   ],
   "source": [
    "import numpy as np\n",
    "import pandas as pd\n",
    "\n",
    "import matplotlib.pyplot as plt\n",
    "%matplotlib inline\n",
    "\n",
    "import talib as ta\n",
    "\n",
    "from tqdm import tqdm_notebook\n",
    "from datetime import *\n",
    "\n",
    "%load_ext autotime"
   ]
  },
  {
   "cell_type": "code",
   "execution_count": 5,
   "metadata": {},
   "outputs": [
    {
     "output_type": "stream",
     "name": "stdout",
     "text": [
      "time: 419 ms\n"
     ]
    }
   ],
   "source": [
    "data = pd.read_csv('data/hist/sp505_hist_lst_10y_1mo.csv', index_col='Date', parse_dates=True)"
   ]
  },
  {
   "cell_type": "code",
   "execution_count": 6,
   "metadata": {},
   "outputs": [
    {
     "output_type": "execute_result",
     "data": {
      "text/plain": [
       "                     A        AAL         AAP        AAPL        ABBV  \\\n",
       "Date                                                                    \n",
       "2010-11-01         NaN        NaN         NaN         NaN         NaN   \n",
       "2010-12-01   27.239445   9.436843   64.273941    9.857034         NaN   \n",
       "2010-12-30         NaN        NaN         NaN         NaN         NaN   \n",
       "2011-01-01   27.502436   9.351994   62.181957   10.369199         NaN   \n",
       "2011-01-28         NaN        NaN         NaN         NaN         NaN   \n",
       "...                ...        ...         ...         ...         ...   \n",
       "2020-09-01  100.758331  12.290000  153.251846  115.610542   86.413216   \n",
       "2020-10-01  101.906250  11.280000  147.279999  108.672516   83.956673   \n",
       "2020-10-30         NaN        NaN         NaN         NaN         NaN   \n",
       "2020-11-01  114.089996  14.980000  149.929993  116.389198  104.889999   \n",
       "2020-11-27  114.089996  14.980000  149.929993  116.589996  104.889999   \n",
       "\n",
       "                   ABC        ABMD         ABT         ACN        ADBE  ...  \\\n",
       "Date                                                                    ...   \n",
       "2010-11-01         NaN         NaN         NaN         NaN         NaN  ...   \n",
       "2010-12-01   29.178671    9.610000   18.329218   39.297047   30.780001  ...   \n",
       "2010-12-30         NaN         NaN         NaN         NaN         NaN  ...   \n",
       "2011-01-01   30.666679    9.800000   17.277130   41.712086   33.049999  ...   \n",
       "2011-01-28         NaN         NaN         NaN         NaN         NaN  ...   \n",
       "...                ...         ...         ...         ...         ...  ...   \n",
       "2020-09-01   96.518066  277.059998  108.468475  225.108521  490.429993  ...   \n",
       "2020-10-01   95.671593  251.880005  104.760834  216.063934  447.100006  ...   \n",
       "2020-10-30         NaN         NaN         NaN         NaN         NaN  ...   \n",
       "2020-11-01  102.772018  271.899994  107.620003  250.119995  477.029999  ...   \n",
       "2020-11-27  103.199997  271.899994  107.620003  250.119995  477.029999  ...   \n",
       "\n",
       "                  XLNX        XOM       XRAY        XRX        XYL  \\\n",
       "Date                                                                 \n",
       "2010-11-01         NaN        NaN        NaN        NaN        NaN   \n",
       "2010-12-01   23.216919  50.335403  32.022945  22.608570        NaN   \n",
       "2010-12-30         NaN        NaN        NaN        NaN        NaN   \n",
       "2011-01-01   25.796581  55.539688  33.298775  20.919958        NaN   \n",
       "2011-01-28         NaN        NaN        NaN        NaN        NaN   \n",
       "...                ...        ...        ...        ...        ...   \n",
       "2020-09-01  103.944656  33.521252  43.627659  18.517445  83.881256   \n",
       "2020-10-01  118.353714  31.851534  47.189999  17.379999  86.892685   \n",
       "2020-10-30         NaN        NaN        NaN        NaN        NaN   \n",
       "2020-11-01  137.100449  39.243198  51.660000  23.219999  96.864304   \n",
       "2020-11-27  137.490005  40.189999  51.660000  23.219999  97.139999   \n",
       "\n",
       "                   YUM         ZBH        ZBRA       ZION         ZTS  \n",
       "Date                                                                   \n",
       "2010-11-01         NaN         NaN         NaN        NaN         NaN  \n",
       "2010-12-01   29.026001   49.611603   37.990002  21.353901         NaN  \n",
       "2010-12-30         NaN         NaN         NaN        NaN         NaN  \n",
       "2011-01-01   27.670855   54.676270   38.900002  20.781052         NaN  \n",
       "2011-01-28         NaN         NaN         NaN        NaN         NaN  \n",
       "...                ...         ...         ...        ...         ...  \n",
       "2020-09-01   90.891327  135.900299  252.460007  28.968992  165.163269  \n",
       "2020-10-01   92.912239  132.100006  283.640015  31.992794  158.351807  \n",
       "2020-10-30         NaN         NaN         NaN        NaN         NaN  \n",
       "2020-11-01  106.700241  150.020004  377.000000  39.121029  161.470001  \n",
       "2020-11-27  107.180000  150.020004  377.000000  39.459999  161.470001  \n",
       "\n",
       "[241 rows x 505 columns]"
      ],
      "text/html": "<div>\n<style scoped>\n    .dataframe tbody tr th:only-of-type {\n        vertical-align: middle;\n    }\n\n    .dataframe tbody tr th {\n        vertical-align: top;\n    }\n\n    .dataframe thead th {\n        text-align: right;\n    }\n</style>\n<table border=\"1\" class=\"dataframe\">\n  <thead>\n    <tr style=\"text-align: right;\">\n      <th></th>\n      <th>A</th>\n      <th>AAL</th>\n      <th>AAP</th>\n      <th>AAPL</th>\n      <th>ABBV</th>\n      <th>ABC</th>\n      <th>ABMD</th>\n      <th>ABT</th>\n      <th>ACN</th>\n      <th>ADBE</th>\n      <th>...</th>\n      <th>XLNX</th>\n      <th>XOM</th>\n      <th>XRAY</th>\n      <th>XRX</th>\n      <th>XYL</th>\n      <th>YUM</th>\n      <th>ZBH</th>\n      <th>ZBRA</th>\n      <th>ZION</th>\n      <th>ZTS</th>\n    </tr>\n    <tr>\n      <th>Date</th>\n      <th></th>\n      <th></th>\n      <th></th>\n      <th></th>\n      <th></th>\n      <th></th>\n      <th></th>\n      <th></th>\n      <th></th>\n      <th></th>\n      <th></th>\n      <th></th>\n      <th></th>\n      <th></th>\n      <th></th>\n      <th></th>\n      <th></th>\n      <th></th>\n      <th></th>\n      <th></th>\n      <th></th>\n    </tr>\n  </thead>\n  <tbody>\n    <tr>\n      <th>2010-11-01</th>\n      <td>NaN</td>\n      <td>NaN</td>\n      <td>NaN</td>\n      <td>NaN</td>\n      <td>NaN</td>\n      <td>NaN</td>\n      <td>NaN</td>\n      <td>NaN</td>\n      <td>NaN</td>\n      <td>NaN</td>\n      <td>...</td>\n      <td>NaN</td>\n      <td>NaN</td>\n      <td>NaN</td>\n      <td>NaN</td>\n      <td>NaN</td>\n      <td>NaN</td>\n      <td>NaN</td>\n      <td>NaN</td>\n      <td>NaN</td>\n      <td>NaN</td>\n    </tr>\n    <tr>\n      <th>2010-12-01</th>\n      <td>27.239445</td>\n      <td>9.436843</td>\n      <td>64.273941</td>\n      <td>9.857034</td>\n      <td>NaN</td>\n      <td>29.178671</td>\n      <td>9.610000</td>\n      <td>18.329218</td>\n      <td>39.297047</td>\n      <td>30.780001</td>\n      <td>...</td>\n      <td>23.216919</td>\n      <td>50.335403</td>\n      <td>32.022945</td>\n      <td>22.608570</td>\n      <td>NaN</td>\n      <td>29.026001</td>\n      <td>49.611603</td>\n      <td>37.990002</td>\n      <td>21.353901</td>\n      <td>NaN</td>\n    </tr>\n    <tr>\n      <th>2010-12-30</th>\n      <td>NaN</td>\n      <td>NaN</td>\n      <td>NaN</td>\n      <td>NaN</td>\n      <td>NaN</td>\n      <td>NaN</td>\n      <td>NaN</td>\n      <td>NaN</td>\n      <td>NaN</td>\n      <td>NaN</td>\n      <td>...</td>\n      <td>NaN</td>\n      <td>NaN</td>\n      <td>NaN</td>\n      <td>NaN</td>\n      <td>NaN</td>\n      <td>NaN</td>\n      <td>NaN</td>\n      <td>NaN</td>\n      <td>NaN</td>\n      <td>NaN</td>\n    </tr>\n    <tr>\n      <th>2011-01-01</th>\n      <td>27.502436</td>\n      <td>9.351994</td>\n      <td>62.181957</td>\n      <td>10.369199</td>\n      <td>NaN</td>\n      <td>30.666679</td>\n      <td>9.800000</td>\n      <td>17.277130</td>\n      <td>41.712086</td>\n      <td>33.049999</td>\n      <td>...</td>\n      <td>25.796581</td>\n      <td>55.539688</td>\n      <td>33.298775</td>\n      <td>20.919958</td>\n      <td>NaN</td>\n      <td>27.670855</td>\n      <td>54.676270</td>\n      <td>38.900002</td>\n      <td>20.781052</td>\n      <td>NaN</td>\n    </tr>\n    <tr>\n      <th>2011-01-28</th>\n      <td>NaN</td>\n      <td>NaN</td>\n      <td>NaN</td>\n      <td>NaN</td>\n      <td>NaN</td>\n      <td>NaN</td>\n      <td>NaN</td>\n      <td>NaN</td>\n      <td>NaN</td>\n      <td>NaN</td>\n      <td>...</td>\n      <td>NaN</td>\n      <td>NaN</td>\n      <td>NaN</td>\n      <td>NaN</td>\n      <td>NaN</td>\n      <td>NaN</td>\n      <td>NaN</td>\n      <td>NaN</td>\n      <td>NaN</td>\n      <td>NaN</td>\n    </tr>\n    <tr>\n      <th>...</th>\n      <td>...</td>\n      <td>...</td>\n      <td>...</td>\n      <td>...</td>\n      <td>...</td>\n      <td>...</td>\n      <td>...</td>\n      <td>...</td>\n      <td>...</td>\n      <td>...</td>\n      <td>...</td>\n      <td>...</td>\n      <td>...</td>\n      <td>...</td>\n      <td>...</td>\n      <td>...</td>\n      <td>...</td>\n      <td>...</td>\n      <td>...</td>\n      <td>...</td>\n      <td>...</td>\n    </tr>\n    <tr>\n      <th>2020-09-01</th>\n      <td>100.758331</td>\n      <td>12.290000</td>\n      <td>153.251846</td>\n      <td>115.610542</td>\n      <td>86.413216</td>\n      <td>96.518066</td>\n      <td>277.059998</td>\n      <td>108.468475</td>\n      <td>225.108521</td>\n      <td>490.429993</td>\n      <td>...</td>\n      <td>103.944656</td>\n      <td>33.521252</td>\n      <td>43.627659</td>\n      <td>18.517445</td>\n      <td>83.881256</td>\n      <td>90.891327</td>\n      <td>135.900299</td>\n      <td>252.460007</td>\n      <td>28.968992</td>\n      <td>165.163269</td>\n    </tr>\n    <tr>\n      <th>2020-10-01</th>\n      <td>101.906250</td>\n      <td>11.280000</td>\n      <td>147.279999</td>\n      <td>108.672516</td>\n      <td>83.956673</td>\n      <td>95.671593</td>\n      <td>251.880005</td>\n      <td>104.760834</td>\n      <td>216.063934</td>\n      <td>447.100006</td>\n      <td>...</td>\n      <td>118.353714</td>\n      <td>31.851534</td>\n      <td>47.189999</td>\n      <td>17.379999</td>\n      <td>86.892685</td>\n      <td>92.912239</td>\n      <td>132.100006</td>\n      <td>283.640015</td>\n      <td>31.992794</td>\n      <td>158.351807</td>\n    </tr>\n    <tr>\n      <th>2020-10-30</th>\n      <td>NaN</td>\n      <td>NaN</td>\n      <td>NaN</td>\n      <td>NaN</td>\n      <td>NaN</td>\n      <td>NaN</td>\n      <td>NaN</td>\n      <td>NaN</td>\n      <td>NaN</td>\n      <td>NaN</td>\n      <td>...</td>\n      <td>NaN</td>\n      <td>NaN</td>\n      <td>NaN</td>\n      <td>NaN</td>\n      <td>NaN</td>\n      <td>NaN</td>\n      <td>NaN</td>\n      <td>NaN</td>\n      <td>NaN</td>\n      <td>NaN</td>\n    </tr>\n    <tr>\n      <th>2020-11-01</th>\n      <td>114.089996</td>\n      <td>14.980000</td>\n      <td>149.929993</td>\n      <td>116.389198</td>\n      <td>104.889999</td>\n      <td>102.772018</td>\n      <td>271.899994</td>\n      <td>107.620003</td>\n      <td>250.119995</td>\n      <td>477.029999</td>\n      <td>...</td>\n      <td>137.100449</td>\n      <td>39.243198</td>\n      <td>51.660000</td>\n      <td>23.219999</td>\n      <td>96.864304</td>\n      <td>106.700241</td>\n      <td>150.020004</td>\n      <td>377.000000</td>\n      <td>39.121029</td>\n      <td>161.470001</td>\n    </tr>\n    <tr>\n      <th>2020-11-27</th>\n      <td>114.089996</td>\n      <td>14.980000</td>\n      <td>149.929993</td>\n      <td>116.589996</td>\n      <td>104.889999</td>\n      <td>103.199997</td>\n      <td>271.899994</td>\n      <td>107.620003</td>\n      <td>250.119995</td>\n      <td>477.029999</td>\n      <td>...</td>\n      <td>137.490005</td>\n      <td>40.189999</td>\n      <td>51.660000</td>\n      <td>23.219999</td>\n      <td>97.139999</td>\n      <td>107.180000</td>\n      <td>150.020004</td>\n      <td>377.000000</td>\n      <td>39.459999</td>\n      <td>161.470001</td>\n    </tr>\n  </tbody>\n</table>\n<p>241 rows × 505 columns</p>\n</div>"
     },
     "metadata": {},
     "execution_count": 6
    },
    {
     "output_type": "stream",
     "name": "stdout",
     "text": [
      "time: 175 ms\n"
     ]
    }
   ],
   "source": [
    "data"
   ]
  },
  {
   "cell_type": "code",
   "execution_count": 8,
   "metadata": {},
   "outputs": [
    {
     "output_type": "stream",
     "name": "stdout",
     "text": [
      "<class 'pandas.core.frame.DataFrame'>\nDatetimeIndex: 241 entries, 2010-11-01 to 2020-11-27\nColumns: 505 entries, A to ZTS\ndtypes: float64(505)\nmemory usage: 952.7 KB\ntime: 233 ms\n"
     ]
    }
   ],
   "source": [
    "data.info()"
   ]
  },
  {
   "cell_type": "code",
   "execution_count": 9,
   "metadata": {},
   "outputs": [
    {
     "output_type": "execute_result",
     "data": {
      "text/plain": [
       "                A         AAL         AAP        AAPL        ABBV         ABC  \\\n",
       "count  121.000000  121.000000  121.000000  121.000000   96.000000  121.000000   \n",
       "mean    49.280101   28.171509  121.756095   34.241190   59.813958   69.369075   \n",
       "std     22.118135   14.635481   37.948127   25.110291   20.293458   22.514004   \n",
       "min     20.546291    4.449739   53.562572    9.857034   26.146500   29.178671   \n",
       "25%     32.666706   12.661017   81.093964   17.654713   44.806238   49.490261   \n",
       "50%     39.341274   31.628977  131.932938   26.413992   53.165306   78.033638   \n",
       "75%     66.190735   39.622803  153.869476   41.938221   79.164682   85.953804   \n",
       "max    114.089996   52.943863  195.442261  128.585907  104.889999  103.713654   \n",
       "\n",
       "             ABMD         ABT         ACN        ADBE  ...        XLNX  \\\n",
       "count  121.000000  121.000000  121.000000  121.000000  ...  121.000000   \n",
       "mean   123.009256   47.368610  109.082549  143.671571  ...   55.581537   \n",
       "std    115.456832   23.979137   55.254517  125.405620  ...   28.835502   \n",
       "min      9.610000   17.277130   39.297047   24.170000  ...   22.347515   \n",
       "25%     22.799999   30.302135   62.927547   45.560001  ...   34.024086   \n",
       "50%     90.279999   39.514820   96.812218   89.129997  ...   42.931118   \n",
       "75%    193.070007   59.113457  151.809601  243.809998  ...   69.553604   \n",
       "max    449.750000  109.106346  250.119995  513.390015  ...  137.490005   \n",
       "\n",
       "              XOM        XRAY         XRX         XYL         YUM         ZBH  \\\n",
       "count  121.000000  121.000000  121.000000  111.000000  121.000000  121.000000   \n",
       "mean    63.315963   46.968844   22.854485   48.083871   61.196139   98.702753   \n",
       "std      9.391712    9.233854    5.229906   21.560101   23.033165   27.868288   \n",
       "min     31.851534   28.882380   13.152289   20.954838   27.670855   46.718819   \n",
       "25%     60.958057   38.950054   18.533836   31.355567   43.184643   73.567917   \n",
       "50%     65.374107   46.239658   23.048241   42.047237   53.948006  104.604134   \n",
       "75%     69.641289   55.051136   26.239058   69.523319   80.224380  118.167023   \n",
       "max     76.558739   65.403084   37.038746   97.139999  113.673058  150.020004   \n",
       "\n",
       "             ZBRA        ZION         ZTS  \n",
       "count  121.000000  121.000000   95.000000  \n",
       "mean   107.791323   30.378972   69.819349  \n",
       "std     78.052030   10.697215   39.614213  \n",
       "min     30.940001   12.427231   27.535257  \n",
       "25%     45.660000   21.796841   41.165127  \n",
       "50%     79.050003   26.169746   52.145077  \n",
       "75%    143.250000   39.881004   91.478008  \n",
       "max    377.000000   50.571888  165.163269  \n",
       "\n",
       "[8 rows x 505 columns]"
      ],
      "text/html": "<div>\n<style scoped>\n    .dataframe tbody tr th:only-of-type {\n        vertical-align: middle;\n    }\n\n    .dataframe tbody tr th {\n        vertical-align: top;\n    }\n\n    .dataframe thead th {\n        text-align: right;\n    }\n</style>\n<table border=\"1\" class=\"dataframe\">\n  <thead>\n    <tr style=\"text-align: right;\">\n      <th></th>\n      <th>A</th>\n      <th>AAL</th>\n      <th>AAP</th>\n      <th>AAPL</th>\n      <th>ABBV</th>\n      <th>ABC</th>\n      <th>ABMD</th>\n      <th>ABT</th>\n      <th>ACN</th>\n      <th>ADBE</th>\n      <th>...</th>\n      <th>XLNX</th>\n      <th>XOM</th>\n      <th>XRAY</th>\n      <th>XRX</th>\n      <th>XYL</th>\n      <th>YUM</th>\n      <th>ZBH</th>\n      <th>ZBRA</th>\n      <th>ZION</th>\n      <th>ZTS</th>\n    </tr>\n  </thead>\n  <tbody>\n    <tr>\n      <th>count</th>\n      <td>121.000000</td>\n      <td>121.000000</td>\n      <td>121.000000</td>\n      <td>121.000000</td>\n      <td>96.000000</td>\n      <td>121.000000</td>\n      <td>121.000000</td>\n      <td>121.000000</td>\n      <td>121.000000</td>\n      <td>121.000000</td>\n      <td>...</td>\n      <td>121.000000</td>\n      <td>121.000000</td>\n      <td>121.000000</td>\n      <td>121.000000</td>\n      <td>111.000000</td>\n      <td>121.000000</td>\n      <td>121.000000</td>\n      <td>121.000000</td>\n      <td>121.000000</td>\n      <td>95.000000</td>\n    </tr>\n    <tr>\n      <th>mean</th>\n      <td>49.280101</td>\n      <td>28.171509</td>\n      <td>121.756095</td>\n      <td>34.241190</td>\n      <td>59.813958</td>\n      <td>69.369075</td>\n      <td>123.009256</td>\n      <td>47.368610</td>\n      <td>109.082549</td>\n      <td>143.671571</td>\n      <td>...</td>\n      <td>55.581537</td>\n      <td>63.315963</td>\n      <td>46.968844</td>\n      <td>22.854485</td>\n      <td>48.083871</td>\n      <td>61.196139</td>\n      <td>98.702753</td>\n      <td>107.791323</td>\n      <td>30.378972</td>\n      <td>69.819349</td>\n    </tr>\n    <tr>\n      <th>std</th>\n      <td>22.118135</td>\n      <td>14.635481</td>\n      <td>37.948127</td>\n      <td>25.110291</td>\n      <td>20.293458</td>\n      <td>22.514004</td>\n      <td>115.456832</td>\n      <td>23.979137</td>\n      <td>55.254517</td>\n      <td>125.405620</td>\n      <td>...</td>\n      <td>28.835502</td>\n      <td>9.391712</td>\n      <td>9.233854</td>\n      <td>5.229906</td>\n      <td>21.560101</td>\n      <td>23.033165</td>\n      <td>27.868288</td>\n      <td>78.052030</td>\n      <td>10.697215</td>\n      <td>39.614213</td>\n    </tr>\n    <tr>\n      <th>min</th>\n      <td>20.546291</td>\n      <td>4.449739</td>\n      <td>53.562572</td>\n      <td>9.857034</td>\n      <td>26.146500</td>\n      <td>29.178671</td>\n      <td>9.610000</td>\n      <td>17.277130</td>\n      <td>39.297047</td>\n      <td>24.170000</td>\n      <td>...</td>\n      <td>22.347515</td>\n      <td>31.851534</td>\n      <td>28.882380</td>\n      <td>13.152289</td>\n      <td>20.954838</td>\n      <td>27.670855</td>\n      <td>46.718819</td>\n      <td>30.940001</td>\n      <td>12.427231</td>\n      <td>27.535257</td>\n    </tr>\n    <tr>\n      <th>25%</th>\n      <td>32.666706</td>\n      <td>12.661017</td>\n      <td>81.093964</td>\n      <td>17.654713</td>\n      <td>44.806238</td>\n      <td>49.490261</td>\n      <td>22.799999</td>\n      <td>30.302135</td>\n      <td>62.927547</td>\n      <td>45.560001</td>\n      <td>...</td>\n      <td>34.024086</td>\n      <td>60.958057</td>\n      <td>38.950054</td>\n      <td>18.533836</td>\n      <td>31.355567</td>\n      <td>43.184643</td>\n      <td>73.567917</td>\n      <td>45.660000</td>\n      <td>21.796841</td>\n      <td>41.165127</td>\n    </tr>\n    <tr>\n      <th>50%</th>\n      <td>39.341274</td>\n      <td>31.628977</td>\n      <td>131.932938</td>\n      <td>26.413992</td>\n      <td>53.165306</td>\n      <td>78.033638</td>\n      <td>90.279999</td>\n      <td>39.514820</td>\n      <td>96.812218</td>\n      <td>89.129997</td>\n      <td>...</td>\n      <td>42.931118</td>\n      <td>65.374107</td>\n      <td>46.239658</td>\n      <td>23.048241</td>\n      <td>42.047237</td>\n      <td>53.948006</td>\n      <td>104.604134</td>\n      <td>79.050003</td>\n      <td>26.169746</td>\n      <td>52.145077</td>\n    </tr>\n    <tr>\n      <th>75%</th>\n      <td>66.190735</td>\n      <td>39.622803</td>\n      <td>153.869476</td>\n      <td>41.938221</td>\n      <td>79.164682</td>\n      <td>85.953804</td>\n      <td>193.070007</td>\n      <td>59.113457</td>\n      <td>151.809601</td>\n      <td>243.809998</td>\n      <td>...</td>\n      <td>69.553604</td>\n      <td>69.641289</td>\n      <td>55.051136</td>\n      <td>26.239058</td>\n      <td>69.523319</td>\n      <td>80.224380</td>\n      <td>118.167023</td>\n      <td>143.250000</td>\n      <td>39.881004</td>\n      <td>91.478008</td>\n    </tr>\n    <tr>\n      <th>max</th>\n      <td>114.089996</td>\n      <td>52.943863</td>\n      <td>195.442261</td>\n      <td>128.585907</td>\n      <td>104.889999</td>\n      <td>103.713654</td>\n      <td>449.750000</td>\n      <td>109.106346</td>\n      <td>250.119995</td>\n      <td>513.390015</td>\n      <td>...</td>\n      <td>137.490005</td>\n      <td>76.558739</td>\n      <td>65.403084</td>\n      <td>37.038746</td>\n      <td>97.139999</td>\n      <td>113.673058</td>\n      <td>150.020004</td>\n      <td>377.000000</td>\n      <td>50.571888</td>\n      <td>165.163269</td>\n    </tr>\n  </tbody>\n</table>\n<p>8 rows × 505 columns</p>\n</div>"
     },
     "metadata": {},
     "execution_count": 9
    },
    {
     "output_type": "stream",
     "name": "stdout",
     "text": [
      "time: 7.45 s\n"
     ]
    }
   ],
   "source": [
    "data.describe()"
   ]
  },
  {
   "cell_type": "code",
   "execution_count": 6,
   "metadata": {},
   "outputs": [
    {
     "output_type": "error",
     "ename": "URLError",
     "evalue": "<urlopen error [Errno -5] No address associated with hostname>",
     "traceback": [
      "\u001b[0;31m---------------------------------------------------------------------------\u001b[0m",
      "\u001b[0;31mgaierror\u001b[0m                                  Traceback (most recent call last)",
      "\u001b[0;32m~/anaconda3/lib/python3.7/urllib/request.py\u001b[0m in \u001b[0;36mdo_open\u001b[0;34m(self, http_class, req, **http_conn_args)\u001b[0m\n\u001b[1;32m   1318\u001b[0m                 h.request(req.get_method(), req.selector, req.data, headers,\n\u001b[0;32m-> 1319\u001b[0;31m                           encode_chunked=req.has_header('Transfer-encoding'))\n\u001b[0m\u001b[1;32m   1320\u001b[0m             \u001b[0;32mexcept\u001b[0m \u001b[0mOSError\u001b[0m \u001b[0;32mas\u001b[0m \u001b[0merr\u001b[0m\u001b[0;34m:\u001b[0m \u001b[0;31m# timeout error\u001b[0m\u001b[0;34m\u001b[0m\u001b[0;34m\u001b[0m\u001b[0m\n",
      "\u001b[0;32m~/anaconda3/lib/python3.7/http/client.py\u001b[0m in \u001b[0;36mrequest\u001b[0;34m(self, method, url, body, headers, encode_chunked)\u001b[0m\n\u001b[1;32m   1251\u001b[0m         \u001b[0;34m\"\"\"Send a complete request to the server.\"\"\"\u001b[0m\u001b[0;34m\u001b[0m\u001b[0;34m\u001b[0m\u001b[0m\n\u001b[0;32m-> 1252\u001b[0;31m         \u001b[0mself\u001b[0m\u001b[0;34m.\u001b[0m\u001b[0m_send_request\u001b[0m\u001b[0;34m(\u001b[0m\u001b[0mmethod\u001b[0m\u001b[0;34m,\u001b[0m \u001b[0murl\u001b[0m\u001b[0;34m,\u001b[0m \u001b[0mbody\u001b[0m\u001b[0;34m,\u001b[0m \u001b[0mheaders\u001b[0m\u001b[0;34m,\u001b[0m \u001b[0mencode_chunked\u001b[0m\u001b[0;34m)\u001b[0m\u001b[0;34m\u001b[0m\u001b[0;34m\u001b[0m\u001b[0m\n\u001b[0m\u001b[1;32m   1253\u001b[0m \u001b[0;34m\u001b[0m\u001b[0m\n",
      "\u001b[0;32m~/anaconda3/lib/python3.7/http/client.py\u001b[0m in \u001b[0;36m_send_request\u001b[0;34m(self, method, url, body, headers, encode_chunked)\u001b[0m\n\u001b[1;32m   1297\u001b[0m             \u001b[0mbody\u001b[0m \u001b[0;34m=\u001b[0m \u001b[0m_encode\u001b[0m\u001b[0;34m(\u001b[0m\u001b[0mbody\u001b[0m\u001b[0;34m,\u001b[0m \u001b[0;34m'body'\u001b[0m\u001b[0;34m)\u001b[0m\u001b[0;34m\u001b[0m\u001b[0;34m\u001b[0m\u001b[0m\n\u001b[0;32m-> 1298\u001b[0;31m         \u001b[0mself\u001b[0m\u001b[0;34m.\u001b[0m\u001b[0mendheaders\u001b[0m\u001b[0;34m(\u001b[0m\u001b[0mbody\u001b[0m\u001b[0;34m,\u001b[0m \u001b[0mencode_chunked\u001b[0m\u001b[0;34m=\u001b[0m\u001b[0mencode_chunked\u001b[0m\u001b[0;34m)\u001b[0m\u001b[0;34m\u001b[0m\u001b[0;34m\u001b[0m\u001b[0m\n\u001b[0m\u001b[1;32m   1299\u001b[0m \u001b[0;34m\u001b[0m\u001b[0m\n",
      "\u001b[0;32m~/anaconda3/lib/python3.7/http/client.py\u001b[0m in \u001b[0;36mendheaders\u001b[0;34m(self, message_body, encode_chunked)\u001b[0m\n\u001b[1;32m   1246\u001b[0m             \u001b[0;32mraise\u001b[0m \u001b[0mCannotSendHeader\u001b[0m\u001b[0;34m(\u001b[0m\u001b[0;34m)\u001b[0m\u001b[0;34m\u001b[0m\u001b[0;34m\u001b[0m\u001b[0m\n\u001b[0;32m-> 1247\u001b[0;31m         \u001b[0mself\u001b[0m\u001b[0;34m.\u001b[0m\u001b[0m_send_output\u001b[0m\u001b[0;34m(\u001b[0m\u001b[0mmessage_body\u001b[0m\u001b[0;34m,\u001b[0m \u001b[0mencode_chunked\u001b[0m\u001b[0;34m=\u001b[0m\u001b[0mencode_chunked\u001b[0m\u001b[0;34m)\u001b[0m\u001b[0;34m\u001b[0m\u001b[0;34m\u001b[0m\u001b[0m\n\u001b[0m\u001b[1;32m   1248\u001b[0m \u001b[0;34m\u001b[0m\u001b[0m\n",
      "\u001b[0;32m~/anaconda3/lib/python3.7/http/client.py\u001b[0m in \u001b[0;36m_send_output\u001b[0;34m(self, message_body, encode_chunked)\u001b[0m\n\u001b[1;32m   1025\u001b[0m         \u001b[0;32mdel\u001b[0m \u001b[0mself\u001b[0m\u001b[0;34m.\u001b[0m\u001b[0m_buffer\u001b[0m\u001b[0;34m[\u001b[0m\u001b[0;34m:\u001b[0m\u001b[0;34m]\u001b[0m\u001b[0;34m\u001b[0m\u001b[0;34m\u001b[0m\u001b[0m\n\u001b[0;32m-> 1026\u001b[0;31m         \u001b[0mself\u001b[0m\u001b[0;34m.\u001b[0m\u001b[0msend\u001b[0m\u001b[0;34m(\u001b[0m\u001b[0mmsg\u001b[0m\u001b[0;34m)\u001b[0m\u001b[0;34m\u001b[0m\u001b[0;34m\u001b[0m\u001b[0m\n\u001b[0m\u001b[1;32m   1027\u001b[0m \u001b[0;34m\u001b[0m\u001b[0m\n",
      "\u001b[0;32m~/anaconda3/lib/python3.7/http/client.py\u001b[0m in \u001b[0;36msend\u001b[0;34m(self, data)\u001b[0m\n\u001b[1;32m    965\u001b[0m             \u001b[0;32mif\u001b[0m \u001b[0mself\u001b[0m\u001b[0;34m.\u001b[0m\u001b[0mauto_open\u001b[0m\u001b[0;34m:\u001b[0m\u001b[0;34m\u001b[0m\u001b[0;34m\u001b[0m\u001b[0m\n\u001b[0;32m--> 966\u001b[0;31m                 \u001b[0mself\u001b[0m\u001b[0;34m.\u001b[0m\u001b[0mconnect\u001b[0m\u001b[0;34m(\u001b[0m\u001b[0;34m)\u001b[0m\u001b[0;34m\u001b[0m\u001b[0;34m\u001b[0m\u001b[0m\n\u001b[0m\u001b[1;32m    967\u001b[0m             \u001b[0;32melse\u001b[0m\u001b[0;34m:\u001b[0m\u001b[0;34m\u001b[0m\u001b[0;34m\u001b[0m\u001b[0m\n",
      "\u001b[0;32m~/anaconda3/lib/python3.7/http/client.py\u001b[0m in \u001b[0;36mconnect\u001b[0;34m(self)\u001b[0m\n\u001b[1;32m   1413\u001b[0m \u001b[0;34m\u001b[0m\u001b[0m\n\u001b[0;32m-> 1414\u001b[0;31m             \u001b[0msuper\u001b[0m\u001b[0;34m(\u001b[0m\u001b[0;34m)\u001b[0m\u001b[0;34m.\u001b[0m\u001b[0mconnect\u001b[0m\u001b[0;34m(\u001b[0m\u001b[0;34m)\u001b[0m\u001b[0;34m\u001b[0m\u001b[0;34m\u001b[0m\u001b[0m\n\u001b[0m\u001b[1;32m   1415\u001b[0m \u001b[0;34m\u001b[0m\u001b[0m\n",
      "\u001b[0;32m~/anaconda3/lib/python3.7/http/client.py\u001b[0m in \u001b[0;36mconnect\u001b[0;34m(self)\u001b[0m\n\u001b[1;32m    937\u001b[0m         self.sock = self._create_connection(\n\u001b[0;32m--> 938\u001b[0;31m             (self.host,self.port), self.timeout, self.source_address)\n\u001b[0m\u001b[1;32m    939\u001b[0m         \u001b[0mself\u001b[0m\u001b[0;34m.\u001b[0m\u001b[0msock\u001b[0m\u001b[0;34m.\u001b[0m\u001b[0msetsockopt\u001b[0m\u001b[0;34m(\u001b[0m\u001b[0msocket\u001b[0m\u001b[0;34m.\u001b[0m\u001b[0mIPPROTO_TCP\u001b[0m\u001b[0;34m,\u001b[0m \u001b[0msocket\u001b[0m\u001b[0;34m.\u001b[0m\u001b[0mTCP_NODELAY\u001b[0m\u001b[0;34m,\u001b[0m \u001b[0;36m1\u001b[0m\u001b[0;34m)\u001b[0m\u001b[0;34m\u001b[0m\u001b[0;34m\u001b[0m\u001b[0m\n",
      "\u001b[0;32m~/anaconda3/lib/python3.7/socket.py\u001b[0m in \u001b[0;36mcreate_connection\u001b[0;34m(address, timeout, source_address)\u001b[0m\n\u001b[1;32m    706\u001b[0m     \u001b[0merr\u001b[0m \u001b[0;34m=\u001b[0m \u001b[0;32mNone\u001b[0m\u001b[0;34m\u001b[0m\u001b[0;34m\u001b[0m\u001b[0m\n\u001b[0;32m--> 707\u001b[0;31m     \u001b[0;32mfor\u001b[0m \u001b[0mres\u001b[0m \u001b[0;32min\u001b[0m \u001b[0mgetaddrinfo\u001b[0m\u001b[0;34m(\u001b[0m\u001b[0mhost\u001b[0m\u001b[0;34m,\u001b[0m \u001b[0mport\u001b[0m\u001b[0;34m,\u001b[0m \u001b[0;36m0\u001b[0m\u001b[0;34m,\u001b[0m \u001b[0mSOCK_STREAM\u001b[0m\u001b[0;34m)\u001b[0m\u001b[0;34m:\u001b[0m\u001b[0;34m\u001b[0m\u001b[0;34m\u001b[0m\u001b[0m\n\u001b[0m\u001b[1;32m    708\u001b[0m         \u001b[0maf\u001b[0m\u001b[0;34m,\u001b[0m \u001b[0msocktype\u001b[0m\u001b[0;34m,\u001b[0m \u001b[0mproto\u001b[0m\u001b[0;34m,\u001b[0m \u001b[0mcanonname\u001b[0m\u001b[0;34m,\u001b[0m \u001b[0msa\u001b[0m \u001b[0;34m=\u001b[0m \u001b[0mres\u001b[0m\u001b[0;34m\u001b[0m\u001b[0;34m\u001b[0m\u001b[0m\n",
      "\u001b[0;32m~/anaconda3/lib/python3.7/socket.py\u001b[0m in \u001b[0;36mgetaddrinfo\u001b[0;34m(host, port, family, type, proto, flags)\u001b[0m\n\u001b[1;32m    751\u001b[0m     \u001b[0maddrlist\u001b[0m \u001b[0;34m=\u001b[0m \u001b[0;34m[\u001b[0m\u001b[0;34m]\u001b[0m\u001b[0;34m\u001b[0m\u001b[0;34m\u001b[0m\u001b[0m\n\u001b[0;32m--> 752\u001b[0;31m     \u001b[0;32mfor\u001b[0m \u001b[0mres\u001b[0m \u001b[0;32min\u001b[0m \u001b[0m_socket\u001b[0m\u001b[0;34m.\u001b[0m\u001b[0mgetaddrinfo\u001b[0m\u001b[0;34m(\u001b[0m\u001b[0mhost\u001b[0m\u001b[0;34m,\u001b[0m \u001b[0mport\u001b[0m\u001b[0;34m,\u001b[0m \u001b[0mfamily\u001b[0m\u001b[0;34m,\u001b[0m \u001b[0mtype\u001b[0m\u001b[0;34m,\u001b[0m \u001b[0mproto\u001b[0m\u001b[0;34m,\u001b[0m \u001b[0mflags\u001b[0m\u001b[0;34m)\u001b[0m\u001b[0;34m:\u001b[0m\u001b[0;34m\u001b[0m\u001b[0;34m\u001b[0m\u001b[0m\n\u001b[0m\u001b[1;32m    753\u001b[0m         \u001b[0maf\u001b[0m\u001b[0;34m,\u001b[0m \u001b[0msocktype\u001b[0m\u001b[0;34m,\u001b[0m \u001b[0mproto\u001b[0m\u001b[0;34m,\u001b[0m \u001b[0mcanonname\u001b[0m\u001b[0;34m,\u001b[0m \u001b[0msa\u001b[0m \u001b[0;34m=\u001b[0m \u001b[0mres\u001b[0m\u001b[0;34m\u001b[0m\u001b[0;34m\u001b[0m\u001b[0m\n",
      "\u001b[0;31mgaierror\u001b[0m: [Errno -5] No address associated with hostname",
      "\nDuring handling of the above exception, another exception occurred:\n",
      "\u001b[0;31mURLError\u001b[0m                                  Traceback (most recent call last)",
      "\u001b[0;32m<ipython-input-6-6e3829ea5ce7>\u001b[0m in \u001b[0;36m<module>\u001b[0;34m\u001b[0m\n\u001b[1;32m      1\u001b[0m \u001b[0;32mfrom\u001b[0m \u001b[0myahoo_finance\u001b[0m \u001b[0;32mimport\u001b[0m \u001b[0mShare\u001b[0m\u001b[0;34m\u001b[0m\u001b[0;34m\u001b[0m\u001b[0m\n\u001b[1;32m      2\u001b[0m \u001b[0;34m\u001b[0m\u001b[0m\n\u001b[0;32m----> 3\u001b[0;31m \u001b[0myahoo\u001b[0m \u001b[0;34m=\u001b[0m \u001b[0mShare\u001b[0m\u001b[0;34m(\u001b[0m\u001b[0;34m'YHOO'\u001b[0m\u001b[0;34m)\u001b[0m\u001b[0;34m\u001b[0m\u001b[0;34m\u001b[0m\u001b[0m\n\u001b[0m\u001b[1;32m      4\u001b[0m \u001b[0;34m\u001b[0m\u001b[0m\n\u001b[1;32m      5\u001b[0m \u001b[0mprint\u001b[0m\u001b[0;34m(\u001b[0m\u001b[0myahoo\u001b[0m\u001b[0;34m.\u001b[0m\u001b[0mget_open\u001b[0m\u001b[0;34m(\u001b[0m\u001b[0;34m)\u001b[0m\u001b[0;34m)\u001b[0m\u001b[0;34m\u001b[0m\u001b[0;34m\u001b[0m\u001b[0m\n",
      "\u001b[0;32m~/anaconda3/lib/python3.7/site-packages/yahoo_finance/__init__.py\u001b[0m in \u001b[0;36m__init__\u001b[0;34m(self, symbol)\u001b[0m\n\u001b[1;32m    176\u001b[0m         \u001b[0mself\u001b[0m\u001b[0;34m.\u001b[0m\u001b[0m_table\u001b[0m \u001b[0;34m=\u001b[0m \u001b[0;34m'quotes'\u001b[0m\u001b[0;34m\u001b[0m\u001b[0;34m\u001b[0m\u001b[0m\n\u001b[1;32m    177\u001b[0m         \u001b[0mself\u001b[0m\u001b[0;34m.\u001b[0m\u001b[0m_key\u001b[0m \u001b[0;34m=\u001b[0m \u001b[0;34m'symbol'\u001b[0m\u001b[0;34m\u001b[0m\u001b[0;34m\u001b[0m\u001b[0m\n\u001b[0;32m--> 178\u001b[0;31m         \u001b[0mself\u001b[0m\u001b[0;34m.\u001b[0m\u001b[0mrefresh\u001b[0m\u001b[0;34m(\u001b[0m\u001b[0;34m)\u001b[0m\u001b[0;34m\u001b[0m\u001b[0;34m\u001b[0m\u001b[0m\n\u001b[0m\u001b[1;32m    179\u001b[0m \u001b[0;34m\u001b[0m\u001b[0m\n\u001b[1;32m    180\u001b[0m     \u001b[0;32mdef\u001b[0m \u001b[0m_fetch\u001b[0m\u001b[0;34m(\u001b[0m\u001b[0mself\u001b[0m\u001b[0;34m)\u001b[0m\u001b[0;34m:\u001b[0m\u001b[0;34m\u001b[0m\u001b[0;34m\u001b[0m\u001b[0m\n",
      "\u001b[0;32m~/anaconda3/lib/python3.7/site-packages/yahoo_finance/__init__.py\u001b[0m in \u001b[0;36mrefresh\u001b[0;34m(self)\u001b[0m\n\u001b[1;32m    140\u001b[0m \u001b[0;34m\u001b[0m\u001b[0m\n\u001b[1;32m    141\u001b[0m         \"\"\"\n\u001b[0;32m--> 142\u001b[0;31m         \u001b[0mself\u001b[0m\u001b[0;34m.\u001b[0m\u001b[0mdata_set\u001b[0m \u001b[0;34m=\u001b[0m \u001b[0mself\u001b[0m\u001b[0;34m.\u001b[0m\u001b[0m_fetch\u001b[0m\u001b[0;34m(\u001b[0m\u001b[0;34m)\u001b[0m\u001b[0;34m\u001b[0m\u001b[0;34m\u001b[0m\u001b[0m\n\u001b[0m\u001b[1;32m    143\u001b[0m \u001b[0;34m\u001b[0m\u001b[0m\n\u001b[1;32m    144\u001b[0m \u001b[0;34m\u001b[0m\u001b[0m\n",
      "\u001b[0;32m~/anaconda3/lib/python3.7/site-packages/yahoo_finance/__init__.py\u001b[0m in \u001b[0;36m_fetch\u001b[0;34m(self)\u001b[0m\n\u001b[1;32m    179\u001b[0m \u001b[0;34m\u001b[0m\u001b[0m\n\u001b[1;32m    180\u001b[0m     \u001b[0;32mdef\u001b[0m \u001b[0m_fetch\u001b[0m\u001b[0;34m(\u001b[0m\u001b[0mself\u001b[0m\u001b[0;34m)\u001b[0m\u001b[0;34m:\u001b[0m\u001b[0;34m\u001b[0m\u001b[0;34m\u001b[0m\u001b[0m\n\u001b[0;32m--> 181\u001b[0;31m         \u001b[0mdata\u001b[0m \u001b[0;34m=\u001b[0m \u001b[0msuper\u001b[0m\u001b[0;34m(\u001b[0m\u001b[0mShare\u001b[0m\u001b[0;34m,\u001b[0m \u001b[0mself\u001b[0m\u001b[0;34m)\u001b[0m\u001b[0;34m.\u001b[0m\u001b[0m_fetch\u001b[0m\u001b[0;34m(\u001b[0m\u001b[0;34m)\u001b[0m\u001b[0;34m\u001b[0m\u001b[0;34m\u001b[0m\u001b[0m\n\u001b[0m\u001b[1;32m    182\u001b[0m         \u001b[0;32mif\u001b[0m \u001b[0mdata\u001b[0m\u001b[0;34m[\u001b[0m\u001b[0;34m'LastTradeDate'\u001b[0m\u001b[0;34m]\u001b[0m \u001b[0;32mand\u001b[0m \u001b[0mdata\u001b[0m\u001b[0;34m[\u001b[0m\u001b[0;34m'LastTradeTime'\u001b[0m\u001b[0;34m]\u001b[0m\u001b[0;34m:\u001b[0m\u001b[0;34m\u001b[0m\u001b[0;34m\u001b[0m\u001b[0m\n\u001b[1;32m    183\u001b[0m             \u001b[0mdata\u001b[0m\u001b[0;34m[\u001b[0m\u001b[0;34mu'LastTradeDateTimeUTC'\u001b[0m\u001b[0;34m]\u001b[0m \u001b[0;34m=\u001b[0m \u001b[0medt_to_utc\u001b[0m\u001b[0;34m(\u001b[0m\u001b[0;34m'{0} {1}'\u001b[0m\u001b[0;34m.\u001b[0m\u001b[0mformat\u001b[0m\u001b[0;34m(\u001b[0m\u001b[0mdata\u001b[0m\u001b[0;34m[\u001b[0m\u001b[0;34m'LastTradeDate'\u001b[0m\u001b[0;34m]\u001b[0m\u001b[0;34m,\u001b[0m \u001b[0mdata\u001b[0m\u001b[0;34m[\u001b[0m\u001b[0;34m'LastTradeTime'\u001b[0m\u001b[0;34m]\u001b[0m\u001b[0;34m)\u001b[0m\u001b[0;34m)\u001b[0m\u001b[0;34m\u001b[0m\u001b[0;34m\u001b[0m\u001b[0m\n",
      "\u001b[0;32m~/anaconda3/lib/python3.7/site-packages/yahoo_finance/__init__.py\u001b[0m in \u001b[0;36m_fetch\u001b[0;34m(self)\u001b[0m\n\u001b[1;32m    132\u001b[0m     \u001b[0;32mdef\u001b[0m \u001b[0m_fetch\u001b[0m\u001b[0;34m(\u001b[0m\u001b[0mself\u001b[0m\u001b[0;34m)\u001b[0m\u001b[0;34m:\u001b[0m\u001b[0;34m\u001b[0m\u001b[0;34m\u001b[0m\u001b[0m\n\u001b[1;32m    133\u001b[0m         \u001b[0mquery\u001b[0m \u001b[0;34m=\u001b[0m \u001b[0mself\u001b[0m\u001b[0;34m.\u001b[0m\u001b[0m_prepare_query\u001b[0m\u001b[0;34m(\u001b[0m\u001b[0mtable\u001b[0m\u001b[0;34m=\u001b[0m\u001b[0mself\u001b[0m\u001b[0;34m.\u001b[0m\u001b[0m_table\u001b[0m\u001b[0;34m,\u001b[0m \u001b[0mkey\u001b[0m\u001b[0;34m=\u001b[0m\u001b[0mself\u001b[0m\u001b[0;34m.\u001b[0m\u001b[0m_key\u001b[0m\u001b[0;34m)\u001b[0m\u001b[0;34m\u001b[0m\u001b[0;34m\u001b[0m\u001b[0m\n\u001b[0;32m--> 134\u001b[0;31m         \u001b[0mdata\u001b[0m \u001b[0;34m=\u001b[0m \u001b[0mself\u001b[0m\u001b[0;34m.\u001b[0m\u001b[0m_request\u001b[0m\u001b[0;34m(\u001b[0m\u001b[0mquery\u001b[0m\u001b[0;34m)\u001b[0m\u001b[0;34m\u001b[0m\u001b[0;34m\u001b[0m\u001b[0m\n\u001b[0m\u001b[1;32m    135\u001b[0m         \u001b[0;32mreturn\u001b[0m \u001b[0mdata\u001b[0m\u001b[0;34m\u001b[0m\u001b[0;34m\u001b[0m\u001b[0m\n\u001b[1;32m    136\u001b[0m \u001b[0;34m\u001b[0m\u001b[0m\n",
      "\u001b[0;32m~/anaconda3/lib/python3.7/site-packages/yahoo_finance/__init__.py\u001b[0m in \u001b[0;36m_request\u001b[0;34m(self, query)\u001b[0m\n\u001b[1;32m    116\u001b[0m \u001b[0;34m\u001b[0m\u001b[0m\n\u001b[1;32m    117\u001b[0m     \u001b[0;32mdef\u001b[0m \u001b[0m_request\u001b[0m\u001b[0;34m(\u001b[0m\u001b[0mself\u001b[0m\u001b[0;34m,\u001b[0m \u001b[0mquery\u001b[0m\u001b[0;34m)\u001b[0m\u001b[0;34m:\u001b[0m\u001b[0;34m\u001b[0m\u001b[0;34m\u001b[0m\u001b[0m\n\u001b[0;32m--> 118\u001b[0;31m         \u001b[0mresponse\u001b[0m \u001b[0;34m=\u001b[0m \u001b[0myql\u001b[0m\u001b[0;34m.\u001b[0m\u001b[0mYQLQuery\u001b[0m\u001b[0;34m(\u001b[0m\u001b[0;34m)\u001b[0m\u001b[0;34m.\u001b[0m\u001b[0mexecute\u001b[0m\u001b[0;34m(\u001b[0m\u001b[0mquery\u001b[0m\u001b[0;34m)\u001b[0m\u001b[0;34m\u001b[0m\u001b[0;34m\u001b[0m\u001b[0m\n\u001b[0m\u001b[1;32m    119\u001b[0m         \u001b[0;32mtry\u001b[0m\u001b[0;34m:\u001b[0m\u001b[0;34m\u001b[0m\u001b[0;34m\u001b[0m\u001b[0m\n\u001b[1;32m    120\u001b[0m             \u001b[0m_\u001b[0m\u001b[0;34m,\u001b[0m \u001b[0mresults\u001b[0m \u001b[0;34m=\u001b[0m \u001b[0mresponse\u001b[0m\u001b[0;34m[\u001b[0m\u001b[0;34m'query'\u001b[0m\u001b[0;34m]\u001b[0m\u001b[0;34m[\u001b[0m\u001b[0;34m'results'\u001b[0m\u001b[0;34m]\u001b[0m\u001b[0;34m.\u001b[0m\u001b[0mpopitem\u001b[0m\u001b[0;34m(\u001b[0m\u001b[0;34m)\u001b[0m\u001b[0;34m\u001b[0m\u001b[0;34m\u001b[0m\u001b[0m\n",
      "\u001b[0;32m~/anaconda3/lib/python3.7/site-packages/yahoo_finance/yql.py\u001b[0m in \u001b[0;36mexecute\u001b[0;34m(self, yql, token)\u001b[0m\n\u001b[1;32m     59\u001b[0m             \u001b[0;34m'q'\u001b[0m\u001b[0;34m:\u001b[0m \u001b[0myql\u001b[0m\u001b[0;34m,\u001b[0m\u001b[0;34m\u001b[0m\u001b[0;34m\u001b[0m\u001b[0m\n\u001b[1;32m     60\u001b[0m             \u001b[0;34m'format'\u001b[0m\u001b[0;34m:\u001b[0m \u001b[0;34m'json'\u001b[0m\u001b[0;34m,\u001b[0m\u001b[0;34m\u001b[0m\u001b[0;34m\u001b[0m\u001b[0m\n\u001b[0;32m---> 61\u001b[0;31m             \u001b[0;34m'env'\u001b[0m\u001b[0;34m:\u001b[0m \u001b[0mDATATABLES_URL\u001b[0m\u001b[0;34m\u001b[0m\u001b[0;34m\u001b[0m\u001b[0m\n\u001b[0m\u001b[1;32m     62\u001b[0m         }))\n\u001b[1;32m     63\u001b[0m         \u001b[0;32mreturn\u001b[0m \u001b[0mloads\u001b[0m\u001b[0;34m(\u001b[0m\u001b[0mreq\u001b[0m\u001b[0;34m.\u001b[0m\u001b[0mread\u001b[0m\u001b[0;34m(\u001b[0m\u001b[0;34m)\u001b[0m\u001b[0;34m)\u001b[0m\u001b[0;34m\u001b[0m\u001b[0;34m\u001b[0m\u001b[0m\n",
      "\u001b[0;32m~/anaconda3/lib/python3.7/urllib/request.py\u001b[0m in \u001b[0;36murlopen\u001b[0;34m(url, data, timeout, cafile, capath, cadefault, context)\u001b[0m\n\u001b[1;32m    220\u001b[0m     \u001b[0;32melse\u001b[0m\u001b[0;34m:\u001b[0m\u001b[0;34m\u001b[0m\u001b[0;34m\u001b[0m\u001b[0m\n\u001b[1;32m    221\u001b[0m         \u001b[0mopener\u001b[0m \u001b[0;34m=\u001b[0m \u001b[0m_opener\u001b[0m\u001b[0;34m\u001b[0m\u001b[0;34m\u001b[0m\u001b[0m\n\u001b[0;32m--> 222\u001b[0;31m     \u001b[0;32mreturn\u001b[0m \u001b[0mopener\u001b[0m\u001b[0;34m.\u001b[0m\u001b[0mopen\u001b[0m\u001b[0;34m(\u001b[0m\u001b[0murl\u001b[0m\u001b[0;34m,\u001b[0m \u001b[0mdata\u001b[0m\u001b[0;34m,\u001b[0m \u001b[0mtimeout\u001b[0m\u001b[0;34m)\u001b[0m\u001b[0;34m\u001b[0m\u001b[0;34m\u001b[0m\u001b[0m\n\u001b[0m\u001b[1;32m    223\u001b[0m \u001b[0;34m\u001b[0m\u001b[0m\n\u001b[1;32m    224\u001b[0m \u001b[0;32mdef\u001b[0m \u001b[0minstall_opener\u001b[0m\u001b[0;34m(\u001b[0m\u001b[0mopener\u001b[0m\u001b[0;34m)\u001b[0m\u001b[0;34m:\u001b[0m\u001b[0;34m\u001b[0m\u001b[0;34m\u001b[0m\u001b[0m\n",
      "\u001b[0;32m~/anaconda3/lib/python3.7/urllib/request.py\u001b[0m in \u001b[0;36mopen\u001b[0;34m(self, fullurl, data, timeout)\u001b[0m\n\u001b[1;32m    523\u001b[0m             \u001b[0mreq\u001b[0m \u001b[0;34m=\u001b[0m \u001b[0mmeth\u001b[0m\u001b[0;34m(\u001b[0m\u001b[0mreq\u001b[0m\u001b[0;34m)\u001b[0m\u001b[0;34m\u001b[0m\u001b[0;34m\u001b[0m\u001b[0m\n\u001b[1;32m    524\u001b[0m \u001b[0;34m\u001b[0m\u001b[0m\n\u001b[0;32m--> 525\u001b[0;31m         \u001b[0mresponse\u001b[0m \u001b[0;34m=\u001b[0m \u001b[0mself\u001b[0m\u001b[0;34m.\u001b[0m\u001b[0m_open\u001b[0m\u001b[0;34m(\u001b[0m\u001b[0mreq\u001b[0m\u001b[0;34m,\u001b[0m \u001b[0mdata\u001b[0m\u001b[0;34m)\u001b[0m\u001b[0;34m\u001b[0m\u001b[0;34m\u001b[0m\u001b[0m\n\u001b[0m\u001b[1;32m    526\u001b[0m \u001b[0;34m\u001b[0m\u001b[0m\n\u001b[1;32m    527\u001b[0m         \u001b[0;31m# post-process response\u001b[0m\u001b[0;34m\u001b[0m\u001b[0;34m\u001b[0m\u001b[0;34m\u001b[0m\u001b[0m\n",
      "\u001b[0;32m~/anaconda3/lib/python3.7/urllib/request.py\u001b[0m in \u001b[0;36m_open\u001b[0;34m(self, req, data)\u001b[0m\n\u001b[1;32m    541\u001b[0m         \u001b[0mprotocol\u001b[0m \u001b[0;34m=\u001b[0m \u001b[0mreq\u001b[0m\u001b[0;34m.\u001b[0m\u001b[0mtype\u001b[0m\u001b[0;34m\u001b[0m\u001b[0;34m\u001b[0m\u001b[0m\n\u001b[1;32m    542\u001b[0m         result = self._call_chain(self.handle_open, protocol, protocol +\n\u001b[0;32m--> 543\u001b[0;31m                                   '_open', req)\n\u001b[0m\u001b[1;32m    544\u001b[0m         \u001b[0;32mif\u001b[0m \u001b[0mresult\u001b[0m\u001b[0;34m:\u001b[0m\u001b[0;34m\u001b[0m\u001b[0;34m\u001b[0m\u001b[0m\n\u001b[1;32m    545\u001b[0m             \u001b[0;32mreturn\u001b[0m \u001b[0mresult\u001b[0m\u001b[0;34m\u001b[0m\u001b[0;34m\u001b[0m\u001b[0m\n",
      "\u001b[0;32m~/anaconda3/lib/python3.7/urllib/request.py\u001b[0m in \u001b[0;36m_call_chain\u001b[0;34m(self, chain, kind, meth_name, *args)\u001b[0m\n\u001b[1;32m    501\u001b[0m         \u001b[0;32mfor\u001b[0m \u001b[0mhandler\u001b[0m \u001b[0;32min\u001b[0m \u001b[0mhandlers\u001b[0m\u001b[0;34m:\u001b[0m\u001b[0;34m\u001b[0m\u001b[0;34m\u001b[0m\u001b[0m\n\u001b[1;32m    502\u001b[0m             \u001b[0mfunc\u001b[0m \u001b[0;34m=\u001b[0m \u001b[0mgetattr\u001b[0m\u001b[0;34m(\u001b[0m\u001b[0mhandler\u001b[0m\u001b[0;34m,\u001b[0m \u001b[0mmeth_name\u001b[0m\u001b[0;34m)\u001b[0m\u001b[0;34m\u001b[0m\u001b[0;34m\u001b[0m\u001b[0m\n\u001b[0;32m--> 503\u001b[0;31m             \u001b[0mresult\u001b[0m \u001b[0;34m=\u001b[0m \u001b[0mfunc\u001b[0m\u001b[0;34m(\u001b[0m\u001b[0;34m*\u001b[0m\u001b[0margs\u001b[0m\u001b[0;34m)\u001b[0m\u001b[0;34m\u001b[0m\u001b[0;34m\u001b[0m\u001b[0m\n\u001b[0m\u001b[1;32m    504\u001b[0m             \u001b[0;32mif\u001b[0m \u001b[0mresult\u001b[0m \u001b[0;32mis\u001b[0m \u001b[0;32mnot\u001b[0m \u001b[0;32mNone\u001b[0m\u001b[0;34m:\u001b[0m\u001b[0;34m\u001b[0m\u001b[0;34m\u001b[0m\u001b[0m\n\u001b[1;32m    505\u001b[0m                 \u001b[0;32mreturn\u001b[0m \u001b[0mresult\u001b[0m\u001b[0;34m\u001b[0m\u001b[0;34m\u001b[0m\u001b[0m\n",
      "\u001b[0;32m~/anaconda3/lib/python3.7/urllib/request.py\u001b[0m in \u001b[0;36mhttps_open\u001b[0;34m(self, req)\u001b[0m\n\u001b[1;32m   1360\u001b[0m         \u001b[0;32mdef\u001b[0m \u001b[0mhttps_open\u001b[0m\u001b[0;34m(\u001b[0m\u001b[0mself\u001b[0m\u001b[0;34m,\u001b[0m \u001b[0mreq\u001b[0m\u001b[0;34m)\u001b[0m\u001b[0;34m:\u001b[0m\u001b[0;34m\u001b[0m\u001b[0;34m\u001b[0m\u001b[0m\n\u001b[1;32m   1361\u001b[0m             return self.do_open(http.client.HTTPSConnection, req,\n\u001b[0;32m-> 1362\u001b[0;31m                 context=self._context, check_hostname=self._check_hostname)\n\u001b[0m\u001b[1;32m   1363\u001b[0m \u001b[0;34m\u001b[0m\u001b[0m\n\u001b[1;32m   1364\u001b[0m         \u001b[0mhttps_request\u001b[0m \u001b[0;34m=\u001b[0m \u001b[0mAbstractHTTPHandler\u001b[0m\u001b[0;34m.\u001b[0m\u001b[0mdo_request_\u001b[0m\u001b[0;34m\u001b[0m\u001b[0;34m\u001b[0m\u001b[0m\n",
      "\u001b[0;32m~/anaconda3/lib/python3.7/urllib/request.py\u001b[0m in \u001b[0;36mdo_open\u001b[0;34m(self, http_class, req, **http_conn_args)\u001b[0m\n\u001b[1;32m   1319\u001b[0m                           encode_chunked=req.has_header('Transfer-encoding'))\n\u001b[1;32m   1320\u001b[0m             \u001b[0;32mexcept\u001b[0m \u001b[0mOSError\u001b[0m \u001b[0;32mas\u001b[0m \u001b[0merr\u001b[0m\u001b[0;34m:\u001b[0m \u001b[0;31m# timeout error\u001b[0m\u001b[0;34m\u001b[0m\u001b[0;34m\u001b[0m\u001b[0m\n\u001b[0;32m-> 1321\u001b[0;31m                 \u001b[0;32mraise\u001b[0m \u001b[0mURLError\u001b[0m\u001b[0;34m(\u001b[0m\u001b[0merr\u001b[0m\u001b[0;34m)\u001b[0m\u001b[0;34m\u001b[0m\u001b[0;34m\u001b[0m\u001b[0m\n\u001b[0m\u001b[1;32m   1322\u001b[0m             \u001b[0mr\u001b[0m \u001b[0;34m=\u001b[0m \u001b[0mh\u001b[0m\u001b[0;34m.\u001b[0m\u001b[0mgetresponse\u001b[0m\u001b[0;34m(\u001b[0m\u001b[0;34m)\u001b[0m\u001b[0;34m\u001b[0m\u001b[0;34m\u001b[0m\u001b[0m\n\u001b[1;32m   1323\u001b[0m         \u001b[0;32mexcept\u001b[0m\u001b[0;34m:\u001b[0m\u001b[0;34m\u001b[0m\u001b[0;34m\u001b[0m\u001b[0m\n",
      "\u001b[0;31mURLError\u001b[0m: <urlopen error [Errno -5] No address associated with hostname>"
     ]
    }
   ],
   "source": [
    "from yahoo_finance import Share\n",
    "\n",
    "yahoo = Share('YHOO')\n",
    "\n",
    "print(yahoo.get_open())\n",
    "# '36.60'\n",
    "print(yahoo.get_price())\n",
    "# '36.84'\n",
    "print(yahoo.get_trade_datetime())\n",
    "# '2014-02-05 20:50:00 UTC+0000'"
   ]
  },
  {
   "cell_type": "code",
   "execution_count": null,
   "metadata": {},
   "outputs": [],
   "source": []
  },
  {
   "cell_type": "code",
   "execution_count": null,
   "metadata": {},
   "outputs": [],
   "source": []
  }
 ]
}