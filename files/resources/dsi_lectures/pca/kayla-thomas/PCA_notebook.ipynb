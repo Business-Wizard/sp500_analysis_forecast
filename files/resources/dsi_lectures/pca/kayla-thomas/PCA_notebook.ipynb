{
 "cells": [
  {
   "cell_type": "markdown",
   "metadata": {},
   "source": [
    "## Principal Component Analysis Notebook\n",
    "F. Burkholder"
   ]
  },
  {
   "cell_type": "markdown",
   "metadata": {},
   "source": [
    "### Set-up"
   ]
  },
  {
   "cell_type": "code",
   "execution_count": 1,
   "metadata": {},
   "outputs": [],
   "source": [
    "import numpy as np\n",
    "import matplotlib.pyplot as plt"
   ]
  },
  {
   "cell_type": "code",
   "execution_count": 2,
   "metadata": {},
   "outputs": [],
   "source": [
    "# use ggplot style\n",
    "plt.style.use('ggplot')"
   ]
  },
  {
   "cell_type": "code",
   "execution_count": 3,
   "metadata": {},
   "outputs": [],
   "source": [
    "# respect for the audience\n",
    "import matplotlib\n",
    "font = {'family' : 'DejaVu Sans',\n",
    "        'weight' : 'normal',\n",
    "        'size'   : 16}\n",
    "\n",
    "# example of keyword argument unpacking\n",
    "matplotlib.rc('font', **font)"
   ]
  },
  {
   "cell_type": "markdown",
   "metadata": {},
   "source": [
    "## How-to-PCA\n",
    "1) Standardize columns  \n",
    "2) Create covariance (correlation if standardized) matrix  \n",
    "3) Find the eigenvectors and eigenvalues of the covariance/correlation matrix  \n",
    "4) The eigenvectors are the principal components  "
   ]
  },
  {
   "cell_type": "code",
   "execution_count": 4,
   "metadata": {},
   "outputs": [
    {
     "name": "stdout",
     "output_type": "stream",
     "text": [
      "x1\tx2\n",
      "4.6\t9.2\n",
      "-4.4\t-8.9\n",
      "-1.0\t-2.1\n",
      "-3.7\t-7.5\n",
      "-3.2\t-6.4\n",
      "-2.4\t-4.8\n",
      "0.1\t0.2\n",
      "2.2\t4.5\n",
      "0.6\t1.2\n",
      "3.7\t7.5\n",
      "2.4\t4.8\n",
      "0.5\t0.9\n",
      "4.7\t9.4\n",
      "-2.2\t-4.4\n",
      "4.3\t8.6\n",
      "3.3\t6.5\n",
      "-0.4\t-0.7\n",
      "-3.2\t-6.4\n",
      "-0.6\t-1.2\n",
      "3.8\t7.7\n"
     ]
    }
   ],
   "source": [
    "# create a simple linear dataset\n",
    "m = 2 # slope\n",
    "b = 0 # intercept\n",
    "x1 = np.random.uniform(-5, 5, size = 20)\n",
    "x2 = m * x1 + b\n",
    "\n",
    "# reshape to column vectors or arbitrary length\n",
    "x1 = x1.reshape((-1,1)) \n",
    "x2 = x2.reshape((-1,1))\n",
    "\n",
    "# make it into a matrix\n",
    "X = np.hstack((x1, x2))\n",
    "\n",
    "print(\"x1\\tx2\")\n",
    "for x1, x2 in X:\n",
    "    print(\"{0:0.1f}\\t{1:0.1f}\".format(x1, x2))"
   ]
  },
  {
   "cell_type": "code",
   "execution_count": 5,
   "metadata": {},
   "outputs": [
    {
     "name": "stdout",
     "output_type": "stream",
     "text": [
      "[[ 4.61617639  9.23235277]\n",
      " [-4.4353717  -8.87074339]\n",
      " [-1.03316977 -2.06633955]\n",
      " [-3.74503875 -7.49007751]\n",
      " [-3.18469929 -6.36939859]\n",
      " [-2.41418891 -4.82837781]\n",
      " [ 0.07920741  0.15841483]\n",
      " [ 2.24247392  4.48494785]\n",
      " [ 0.58222314  1.16444627]\n",
      " [ 3.74245164  7.48490328]\n",
      " [ 2.39990527  4.79981054]\n",
      " [ 0.46867494  0.93734989]\n",
      " [ 4.69130669  9.38261337]\n",
      " [-2.18529026 -4.37058052]\n",
      " [ 4.28828881  8.57657761]\n",
      " [ 3.25847507  6.51695014]\n",
      " [-0.35836468 -0.71672937]\n",
      " [-3.21944377 -6.43888753]\n",
      " [-0.5917669  -1.1835338 ]\n",
      " [ 3.84196209  7.68392419]]\n"
     ]
    }
   ],
   "source": [
    "print(X)"
   ]
  },
  {
   "cell_type": "markdown",
   "metadata": {},
   "source": [
    "### Standardize"
   ]
  },
  {
   "cell_type": "code",
   "execution_count": 6,
   "metadata": {},
   "outputs": [
    {
     "name": "stdout",
     "output_type": "stream",
     "text": [
      "Column means:  [0.45219057 0.90438113]\n",
      "Column stddevs:  [3.03236561 6.06473122]\n"
     ]
    }
   ],
   "source": [
    "print(\"Column means: \", X.mean(axis=0)) # average of the columns\n",
    "print(\"Column stddevs: \", X.std(axis=0, ddof=1)) # std dev. of the columns"
   ]
  },
  {
   "cell_type": "code",
   "execution_count": 10,
   "metadata": {},
   "outputs": [
    {
     "name": "stdout",
     "output_type": "stream",
     "text": [
      "[[ 1.37318066  1.37318066]\n",
      " [-1.61179847 -1.61179847]\n",
      " [-0.48983551 -0.48983551]\n",
      " [-1.38414356 -1.38414356]\n",
      " [-1.19935731 -1.19935731]\n",
      " [-0.94526183 -0.94526183]\n",
      " [-0.12300072 -0.12300072]\n",
      " [ 0.59039166  0.59039166]\n",
      " [ 0.04288156  0.04288156]\n",
      " [ 1.08504762  1.08504762]\n",
      " [ 0.64230866  0.64230866]\n",
      " [ 0.00543614  0.00543614]\n",
      " [ 1.3979568   1.3979568 ]\n",
      " [-0.86977666 -0.86977666]\n",
      " [ 1.26505136  1.26505136]\n",
      " [ 0.92544398  0.92544398]\n",
      " [-0.26730129 -0.26730129]\n",
      " [-1.21081519 -1.21081519]\n",
      " [-0.34427163 -0.34427163]\n",
      " [ 1.11786373  1.11786373]]\n"
     ]
    }
   ],
   "source": [
    "# standardize using numpy\n",
    "X_std = (X - X.mean(axis=0))/X.std(axis=0, ddof=1)\n",
    "print(X_std) #ugh, so many digits"
   ]
  },
  {
   "cell_type": "code",
   "execution_count": 11,
   "metadata": {},
   "outputs": [
    {
     "name": "stdout",
     "output_type": "stream",
     "text": [
      "[-5.55111512e-17 -5.55111512e-17]\n",
      "[1. 1.]\n"
     ]
    }
   ],
   "source": [
    "# check that column means are 0, standard deviation of 1\n",
    "print(X_std.mean(axis=0))\n",
    "print(X_std.std(axis=0, ddof=1))"
   ]
  },
  {
   "cell_type": "code",
   "execution_count": 12,
   "metadata": {},
   "outputs": [
    {
     "name": "stdout",
     "output_type": "stream",
     "text": [
      "The means of the columns in X are: [0.45 0.9 ]\n",
      "The standard deviations of the columns in X are: [2.96 5.91]\n"
     ]
    }
   ],
   "source": [
    "# could also use sklearn's standard scalar\n",
    "from sklearn.preprocessing import StandardScaler\n",
    "scaler = StandardScaler(copy=True, with_mean=True, with_std=True)\n",
    "scaler.fit(X)\n",
    "print(\"The means of the columns in X are: {0}\".format(scaler.mean_.round(2)))\n",
    "print(\"The standard deviations of the columns in X are: {0}\".format(np.sqrt(scaler.var_).round(2)))"
   ]
  },
  {
   "cell_type": "code",
   "execution_count": 13,
   "metadata": {},
   "outputs": [
    {
     "name": "stdout",
     "output_type": "stream",
     "text": [
      "[-3.33066907e-17 -3.33066907e-17]\n",
      "[1.02597835 1.02597835]\n"
     ]
    }
   ],
   "source": [
    "# make sure data is standardized\n",
    "X_std_ss = scaler.transform(X)\n",
    "print(X_std_ss.mean(axis=0))\n",
    "print(X_std_ss.std(axis=0, ddof=1)) #wat"
   ]
  },
  {
   "cell_type": "code",
   "execution_count": 14,
   "metadata": {},
   "outputs": [
    {
     "name": "stdout",
     "output_type": "stream",
     "text": [
      "[1. 1.]\n"
     ]
    }
   ],
   "source": [
    "print(X_std_ss.std(axis=0, ddof=0)) #oh"
   ]
  },
  {
   "cell_type": "markdown",
   "metadata": {},
   "source": [
    "Apparently standard scalar calculates variance only for a population, not a sample."
   ]
  },
  {
   "cell_type": "code",
   "execution_count": 15,
   "metadata": {},
   "outputs": [
    {
     "data": {
      "image/png": "[encoded data removed]",
      "text/plain": [
       "<Figure size 576x432 with 1 Axes>"
      ]
     },
     "metadata": {},
     "output_type": "display_data"
    }
   ],
   "source": [
    "# Ok back from standardizing\n",
    "# plot it\n",
    "fig, ax = plt.subplots(nrows=1, ncols=1, figsize=(8,6))\n",
    "ax.scatter(X_std[:,0], X_std[:,1], marker='o', color='k')\n",
    "ax.set_xlabel('x1_std')\n",
    "ax.set_ylabel('x2_std')\n",
    "low = X_std.min() - 1\n",
    "high = X_std.max() + 1\n",
    "ax.set_xlim([low, high])\n",
    "ax.set_ylim([low, high])\n",
    "ax.set_aspect('equal');"
   ]
  },
  {
   "cell_type": "markdown",
   "metadata": {},
   "source": [
    "### Create covariance/correlation matrix\n",
    "Covariance if just de-meaned, correlation if standardized too (more typical)."
   ]
  },
  {
   "cell_type": "code",
   "execution_count": 16,
   "metadata": {},
   "outputs": [],
   "source": [
    "N = X.shape[0]\n",
    "A = 1/(N-1)*np.dot(X_std.T, X_std)"
   ]
  },
  {
   "cell_type": "code",
   "execution_count": 17,
   "metadata": {},
   "outputs": [
    {
     "name": "stdout",
     "output_type": "stream",
     "text": [
      "[[1. 1.]\n",
      " [1. 1.]]\n"
     ]
    }
   ],
   "source": [
    "print(A)"
   ]
  },
  {
   "cell_type": "markdown",
   "metadata": {},
   "source": [
    "### Find the eigenvectors and eigenvalues (with numpy)\n",
    "See [documentation](https://docs.scipy.org/doc/numpy-1.15.1/reference/generated/numpy.linalg.eig.html).  Structure of the returned eigenvectors is not intuitive."
   ]
  },
  {
   "cell_type": "code",
   "execution_count": 18,
   "metadata": {},
   "outputs": [],
   "source": [
    "eig_vals, eig_vecs = np.linalg.eig(A)"
   ]
  },
  {
   "cell_type": "code",
   "execution_count": 19,
   "metadata": {},
   "outputs": [
    {
     "data": {
      "text/plain": [
       "array([ 2.00000000e+00, -2.22044605e-16])"
      ]
     },
     "execution_count": 19,
     "metadata": {},
     "output_type": "execute_result"
    }
   ],
   "source": [
    "eig_vals"
   ]
  },
  {
   "cell_type": "code",
   "execution_count": 18,
   "metadata": {},
   "outputs": [
    {
     "data": {
      "text/plain": [
       "array([[ 0.70710678, -0.70710678],\n",
       "       [ 0.70710678,  0.70710678]])"
      ]
     },
     "execution_count": 18,
     "metadata": {},
     "output_type": "execute_result"
    }
   ],
   "source": [
    "eig_vecs"
   ]
  },
  {
   "cell_type": "code",
   "execution_count": 20,
   "metadata": {},
   "outputs": [
    {
     "name": "stdout",
     "output_type": "stream",
     "text": [
      "[[0.70710678]\n",
      " [0.70710678]]\n"
     ]
    }
   ],
   "source": [
    "# will keep only the first eigenvector, associated with eigenvalue 2\n",
    "pc1 = np.array([[eig_vecs[0][0], eig_vecs[1][0]]]).T\n",
    "print(pc1)"
   ]
  },
  {
   "cell_type": "markdown",
   "metadata": {},
   "source": [
    "See [here](https://stats.stackexchange.com/questions/229092/how-to-reverse-pca-and-reconstruct-original-variables-from-several-principal-com) for reconstructing your data matrix from principal components manually (in numpy)."
   ]
  },
  {
   "cell_type": "markdown",
   "metadata": {},
   "source": [
    "### Use sklearn - example on the Iris dataset\n",
    "Iris dataset described [here](https://en.wikipedia.org/wiki/Iris_flower_data_set)"
   ]
  },
  {
   "cell_type": "code",
   "execution_count": 2,
   "metadata": {},
   "outputs": [
    {
     "name": "stdout",
     "output_type": "stream",
     "text": [
      "X\t\ty\n",
      "[5.1 3.5]\t0\n",
      "[4.9 3. ]\t0\n",
      "[4.7 3.2]\t0\n",
      "[4.6 3.1]\t0\n",
      "[5.  3.6]\t0\n",
      "[5.4 3.9]\t0\n",
      "[4.6 3.4]\t0\n",
      "[5.  3.4]\t0\n",
      "[4.4 2.9]\t0\n",
      "[4.9 3.1]\t0\n",
      "[5.4 3.7]\t0\n",
      "[4.8 3.4]\t0\n",
      "[4.8 3. ]\t0\n",
      "[4.3 3. ]\t0\n",
      "[5.8 4. ]\t0\n",
      "[5.7 4.4]\t0\n",
      "[5.4 3.9]\t0\n",
      "[5.1 3.5]\t0\n",
      "[5.7 3.8]\t0\n",
      "[5.1 3.8]\t0\n",
      "[5.4 3.4]\t0\n",
      "[5.1 3.7]\t0\n",
      "[4.6 3.6]\t0\n",
      "[5.1 3.3]\t0\n",
      "[4.8 3.4]\t0\n",
      "[5. 3.]\t0\n",
      "[5.  3.4]\t0\n",
      "[5.2 3.5]\t0\n",
      "[5.2 3.4]\t0\n",
      "[4.7 3.2]\t0\n",
      "[4.8 3.1]\t0\n",
      "[5.4 3.4]\t0\n",
      "[5.2 4.1]\t0\n",
      "[5.5 4.2]\t0\n",
      "[4.9 3.1]\t0\n",
      "[5.  3.2]\t0\n",
      "[5.5 3.5]\t0\n",
      "[4.9 3.6]\t0\n",
      "[4.4 3. ]\t0\n",
      "[5.1 3.4]\t0\n",
      "[5.  3.5]\t0\n",
      "[4.5 2.3]\t0\n",
      "[4.4 3.2]\t0\n",
      "[5.  3.5]\t0\n",
      "[5.1 3.8]\t0\n",
      "[4.8 3. ]\t0\n",
      "[5.1 3.8]\t0\n",
      "[4.6 3.2]\t0\n",
      "[5.3 3.7]\t0\n",
      "[5.  3.3]\t0\n",
      "[7.  3.2]\t1\n",
      "[6.4 3.2]\t1\n",
      "[6.9 3.1]\t1\n",
      "[5.5 2.3]\t1\n",
      "[6.5 2.8]\t1\n",
      "[5.7 2.8]\t1\n",
      "[6.3 3.3]\t1\n",
      "[4.9 2.4]\t1\n",
      "[6.6 2.9]\t1\n",
      "[5.2 2.7]\t1\n",
      "[5. 2.]\t1\n",
      "[5.9 3. ]\t1\n",
      "[6.  2.2]\t1\n",
      "[6.1 2.9]\t1\n",
      "[5.6 2.9]\t1\n",
      "[6.7 3.1]\t1\n",
      "[5.6 3. ]\t1\n",
      "[5.8 2.7]\t1\n",
      "[6.2 2.2]\t1\n",
      "[5.6 2.5]\t1\n",
      "[5.9 3.2]\t1\n",
      "[6.1 2.8]\t1\n",
      "[6.3 2.5]\t1\n",
      "[6.1 2.8]\t1\n",
      "[6.4 2.9]\t1\n",
      "[6.6 3. ]\t1\n",
      "[6.8 2.8]\t1\n",
      "[6.7 3. ]\t1\n",
      "[6.  2.9]\t1\n",
      "[5.7 2.6]\t1\n",
      "[5.5 2.4]\t1\n",
      "[5.5 2.4]\t1\n",
      "[5.8 2.7]\t1\n",
      "[6.  2.7]\t1\n",
      "[5.4 3. ]\t1\n",
      "[6.  3.4]\t1\n",
      "[6.7 3.1]\t1\n",
      "[6.3 2.3]\t1\n",
      "[5.6 3. ]\t1\n",
      "[5.5 2.5]\t1\n",
      "[5.5 2.6]\t1\n",
      "[6.1 3. ]\t1\n",
      "[5.8 2.6]\t1\n",
      "[5.  2.3]\t1\n",
      "[5.6 2.7]\t1\n",
      "[5.7 3. ]\t1\n",
      "[5.7 2.9]\t1\n",
      "[6.2 2.9]\t1\n",
      "[5.1 2.5]\t1\n",
      "[5.7 2.8]\t1\n",
      "[6.3 3.3]\t2\n",
      "[5.8 2.7]\t2\n",
      "[7.1 3. ]\t2\n",
      "[6.3 2.9]\t2\n",
      "[6.5 3. ]\t2\n",
      "[7.6 3. ]\t2\n",
      "[4.9 2.5]\t2\n",
      "[7.3 2.9]\t2\n",
      "[6.7 2.5]\t2\n",
      "[7.2 3.6]\t2\n",
      "[6.5 3.2]\t2\n",
      "[6.4 2.7]\t2\n",
      "[6.8 3. ]\t2\n",
      "[5.7 2.5]\t2\n",
      "[5.8 2.8]\t2\n",
      "[6.4 3.2]\t2\n",
      "[6.5 3. ]\t2\n",
      "[7.7 3.8]\t2\n",
      "[7.7 2.6]\t2\n",
      "[6.  2.2]\t2\n",
      "[6.9 3.2]\t2\n",
      "[5.6 2.8]\t2\n",
      "[7.7 2.8]\t2\n",
      "[6.3 2.7]\t2\n",
      "[6.7 3.3]\t2\n",
      "[7.2 3.2]\t2\n",
      "[6.2 2.8]\t2\n",
      "[6.1 3. ]\t2\n",
      "[6.4 2.8]\t2\n",
      "[7.2 3. ]\t2\n",
      "[7.4 2.8]\t2\n",
      "[7.9 3.8]\t2\n",
      "[6.4 2.8]\t2\n",
      "[6.3 2.8]\t2\n",
      "[6.1 2.6]\t2\n",
      "[7.7 3. ]\t2\n",
      "[6.3 3.4]\t2\n",
      "[6.4 3.1]\t2\n",
      "[6. 3.]\t2\n",
      "[6.9 3.1]\t2\n",
      "[6.7 3.1]\t2\n",
      "[6.9 3.1]\t2\n",
      "[5.8 2.7]\t2\n",
      "[6.8 3.2]\t2\n",
      "[6.7 3.3]\t2\n",
      "[6.7 3. ]\t2\n",
      "[6.3 2.5]\t2\n",
      "[6.5 3. ]\t2\n",
      "[6.2 3.4]\t2\n",
      "[5.9 3. ]\t2\n"
     ]
    }
   ],
   "source": [
    "# Adapted from code source: Gaël Varoquaux\n",
    "# Modified for documentation by Jaques Grobler\n",
    "# License: BSD 3 clause\n",
    "\n",
    "import matplotlib.pyplot as plt\n",
    "from sklearn import datasets\n",
    "\n",
    "# import some data to play with\n",
    "iris = datasets.load_iris()\n",
    "X = iris.data[:, :2]  # we only take the first two features (there are a total of 4)\n",
    "y = iris.target\n",
    "\n",
    "print(\"X\\t\\ty\")\n",
    "for rowX, rowy in zip(X,y):\n",
    "    print(\"{0}\\t{1}\".format(rowX, rowy))"
   ]
  },
  {
   "cell_type": "code",
   "execution_count": 3,
   "metadata": {},
   "outputs": [
    {
     "data": {
      "image/png": "[encoded data removed]",
      "text/plain": [
       "<Figure size 576x432 with 1 Axes>"
      ]
     },
     "metadata": {},
     "output_type": "display_data"
    }
   ],
   "source": [
    "x_min, x_max = X[:, 0].min() - .5, X[:, 0].max() + .5\n",
    "y_min, y_max = X[:, 1].min() - .5, X[:, 1].max() + .5\n",
    "\n",
    "fig, ax = plt.subplots(figsize=(8,6))\n",
    "\n",
    "# Plot the points\n",
    "ax.scatter(X[:, 0], X[:, 1], c=y, cmap=plt.cm.Set1,\n",
    "            edgecolor='k')\n",
    "ax.set_xlabel('Sepal length')\n",
    "ax.set_ylabel('Sepal width')\n",
    "ax.set_title('Plotting first two columns of data')\n",
    "ax.set_xlim(x_min, x_max)\n",
    "ax.set_ylim(y_min, y_max)\n",
    "ax.set_xticks(())\n",
    "ax.set_yticks(());"
   ]
  },
  {
   "cell_type": "markdown",
   "metadata": {},
   "source": [
    "Above, when we just used the first two columns of data, we didn't see much separation of the classes in our 2d plot.  If we had done PCA first, where we used PCA to reduce it down to two dimensions, maybe we'd see more separation..."
   ]
  },
  {
   "cell_type": "code",
   "execution_count": 10,
   "metadata": {},
   "outputs": [
    {
     "name": "stdout",
     "output_type": "stream",
     "text": [
      "First 3 rows of the iris data:\n",
      "X1\tX2\tX3\tX4\n",
      "5.1\t3.5\t1.4\t0.2\n",
      "4.9\t3.0\t1.4\t0.2\n",
      "4.7\t3.2\t1.3\t0.2\n",
      "First 3 rows of the iris data:\n",
      "X1_s\tX2_s\tX3_s\tX4_s\n",
      "-0.9\t1.0\t-1.3\t-1.3\n",
      "-1.1\t-0.1\t-1.3\t-1.3\n",
      "-1.4\t0.3\t-1.4\t-1.3\n",
      "\n",
      "Data after PCA into 2 components\n",
      "PC1\tPC2\n",
      "-2.3\t0.5\n",
      "-2.1\t-0.7\n",
      "-2.4\t-0.3\n"
     ]
    }
   ],
   "source": [
    "# see a 2d representation of the data using PCA\n",
    "from sklearn.decomposition import PCA\n",
    "from sklearn.preprocessing import StandardScaler\n",
    "scaler = StandardScaler(copy=True, with_mean=True, with_std=True)\n",
    "\n",
    "\n",
    "print(\"First 3 rows of the iris data:\")\n",
    "print(\"X1\\tX2\\tX3\\tX4\")\n",
    "for i in range(3):\n",
    "    print(\"{0}\\t{1}\\t{2}\\t{3}\".format(iris.data[i,0], iris.data[i,1], iris.data[i,2], iris.data[i,3]))\n",
    "\n",
    "X_scaled = scaler.fit_transform(iris.data) # standardize data\n",
    "\n",
    "print(\"First 3 rows of the iris data:\")\n",
    "print(\"X1_s\\tX2_s\\tX3_s\\tX4_s\")\n",
    "for i in range(3):\n",
    "    print(\"{0:0.1f}\\t{1:0.1f}\\t{2:0.1f}\\t{3:0.1f}\".format(X_scaled[i,0], X_scaled[i,1], X_scaled[i,2], X_scaled[i,3]))\n",
    "\n",
    "\n",
    "pca = PCA(n_components=2) #pca object\n",
    "X_pca = pca.fit_transform(X_scaled) # from 4 features to 2 PCA features\n",
    "\n",
    "print(\"\\nData after PCA into 2 components\")\n",
    "print(\"PC1\\tPC2\")\n",
    "for i in range(3):\n",
    "    print(\"{0:0.1f}\\t{1:0.1f}\".format(X_pca[i,0], X_pca[i,1]))"
   ]
  },
  {
   "cell_type": "code",
   "execution_count": 14,
   "metadata": {},
   "outputs": [
    {
     "data": {
      "text/plain": [
       "array([[ 0.52, -0.27,  0.58,  0.56],\n",
       "       [ 0.38,  0.92,  0.02,  0.07]])"
      ]
     },
     "execution_count": 14,
     "metadata": {},
     "output_type": "execute_result"
    }
   ],
   "source": [
    "# How are each of the 2 principal components defined?\n",
    "# Here are the loadings (how the original features load on to the principal components)\n",
    "pca.components_.round(2)"
   ]
  },
  {
   "cell_type": "markdown",
   "metadata": {},
   "source": [
    "The 1st principal component is 0.52 $\\cdot$ X1 + -0.26 $\\cdot$ X2 + 0.58 $\\cdot$ X3 + 0.57 $\\cdot$ X4  \n",
    "The 2nd principal component is 0.37 $\\cdot$ X1 + 0.93 $\\cdot$ X2 + 0.02 $\\cdot$ X3 + 0.07 $\\cdot$ X4"
   ]
  },
  {
   "cell_type": "code",
   "execution_count": 25,
   "metadata": {},
   "outputs": [
    {
     "data": {
      "text/plain": [
       "-3.400058012914542e-16"
      ]
     },
     "execution_count": 25,
     "metadata": {},
     "output_type": "execute_result"
    }
   ],
   "source": [
    "# Are these components orthogonal?  (They should be!)\n",
    "np.dot(pca.components_[0], pca.components_[1])"
   ]
  },
  {
   "cell_type": "code",
   "execution_count": 26,
   "metadata": {},
   "outputs": [
    {
     "data": {
      "image/png": "[encoded data removed]",
      "text/plain": [
       "<Figure size 576x432 with 1 Axes>"
      ]
     },
     "metadata": {},
     "output_type": "display_data"
    }
   ],
   "source": [
    "fig, ax = plt.subplots(1, 1, figsize=(8, 6))\n",
    "ax.scatter(X_pca[:, 0], X_pca[:, 1], c=y,\n",
    "           cmap=plt.cm.Set1, edgecolor='k', s=40)\n",
    "ax.set_title(\"First two PCA directions\")\n",
    "ax.set_xlabel(\"1st eigenvector (PC1)\")\n",
    "ax.set_ylabel(\"2nd eigenvector (PC2)\");"
   ]
  },
  {
   "cell_type": "markdown",
   "metadata": {},
   "source": [
    "By using features derived from linear combinations of all the features, this PCA 2d representation does a better job showing the structure in the data (the separations of the classes) than just using any two features.  \n",
    "\n",
    "But did we make a sacrifice by going down to two dimensions (from four) using PCA?"
   ]
  },
  {
   "cell_type": "code",
   "execution_count": 27,
   "metadata": {},
   "outputs": [
    {
     "name": "stdout",
     "output_type": "stream",
     "text": [
      "[0.72962445 0.22850762]\n",
      "The 2 principal components explain 95.8% of the variance in the original data.\n"
     ]
    }
   ],
   "source": [
    "evr = pca.explained_variance_ratio_\n",
    "print(evr)\n",
    "print(\"The 2 principal components explain {0:0.1f}%\"\n",
    "      \" of the variance in the original data.\".format(evr.sum()*100))"
   ]
  },
  {
   "cell_type": "markdown",
   "metadata": {},
   "source": [
    "^ That's really good!  A rule of thumb is to pick your number of components to explain at least 90% of the variance in the data."
   ]
  },
  {
   "cell_type": "markdown",
   "metadata": {},
   "source": [
    "### Scree plots (how to pick the number of principal components)"
   ]
  },
  {
   "cell_type": "code",
   "execution_count": 28,
   "metadata": {},
   "outputs": [
    {
     "name": "stdout",
     "output_type": "stream",
     "text": [
      "There are 1797 rows of data.\n"
     ]
    }
   ],
   "source": [
    "# Code source: Gaël Varoquaux\n",
    "# Modified for documentation by Jaques Grobler\n",
    "# License: BSD 3 clause\n",
    "\n",
    "import numpy as np\n",
    "import matplotlib.pyplot as plt\n",
    "\n",
    "from sklearn import decomposition, datasets\n",
    "\n",
    "pca = decomposition.PCA() # not setting number of components, which means we keep them all!\n",
    "\n",
    "digits = datasets.load_digits()\n",
    "X_digits = digits.data\n",
    "y_digits = digits.target\n",
    "\n",
    "print(\"There are {0} rows of data.\".format(X_digits.shape[0]))"
   ]
  },
  {
   "cell_type": "code",
   "execution_count": 31,
   "metadata": {},
   "outputs": [
    {
     "name": "stdout",
     "output_type": "stream",
     "text": [
      "[ 0.  0.  0.  0. 14. 13.  1.  0.  0.  0.  0.  5. 16. 16.  2.  0.  0.  0.\n",
      "  0. 14. 16. 12.  0.  0.  0.  1. 10. 16. 16. 12.  0.  0.  0.  3. 12. 14.\n",
      " 16.  9.  0.  0.  0.  0.  0.  5. 16. 15.  0.  0.  0.  0.  0.  4. 16. 14.\n",
      "  0.  0.  0.  0.  0.  1. 13. 16.  1.  0.]\n",
      "\n",
      "The images are (64,) in shape.\n",
      "\n",
      "Each value in the image is of type <class 'numpy.float64'>\n",
      "(Though they look a lot like 4 bit numbers.)\n",
      "\n",
      "Number in image:  1\n"
     ]
    },
    {
     "data": {
      "image/png": "[encoded data removed]",
      "text/plain": [
       "<Figure size 432x288 with 1 Axes>"
      ]
     },
     "metadata": {},
     "output_type": "display_data"
    }
   ],
   "source": [
    "# look at a digit and target\n",
    "img = 11\n",
    "print(X_digits[img])\n",
    "print(\"\\nThe images are {0} in shape.\".format(X_digits[img].shape))\n",
    "print(\"\\nEach value in the image is of type {0}\".format(type(X_digits[img][0])))\n",
    "print(\"(Though they look a lot like 4 bit numbers.)\")\n",
    "plt.imshow(X_digits[img].reshape((8,8)), cmap='gray')\n",
    "print(\"\\nNumber in image: \", y_digits[img])"
   ]
  },
  {
   "cell_type": "code",
   "execution_count": 32,
   "metadata": {},
   "outputs": [
    {
     "data": {
      "image/png": "[encoded data removed]",
      "text/plain": [
       "<Figure size 576x432 with 1 Axes>"
      ]
     },
     "metadata": {},
     "output_type": "display_data"
    }
   ],
   "source": [
    "# not scaling, why?\n",
    "\n",
    "# Plot the PCA spectrum\n",
    "pca.fit(X_digits)\n",
    "\n",
    "plt.figure(1, figsize=(8, 6))\n",
    "plt.clf()\n",
    "plt.axes([.2, .2, .7, .7])\n",
    "plt.plot(pca.explained_variance_, linewidth=2)\n",
    "plt.axis('tight')\n",
    "plt.xlabel('n_components')\n",
    "plt.ylabel('explained_variance_');"
   ]
  },
  {
   "cell_type": "code",
   "execution_count": 33,
   "metadata": {},
   "outputs": [],
   "source": [
    "total_variance = np.sum(pca.explained_variance_)\n",
    "cum_variance = np.cumsum(pca.explained_variance_)\n",
    "prop_var_expl = cum_variance/total_variance"
   ]
  },
  {
   "cell_type": "code",
   "execution_count": 34,
   "metadata": {},
   "outputs": [
    {
     "data": {
      "image/png": "[encoded data removed]",
      "text/plain": [
       "<Figure size 576x432 with 1 Axes>"
      ]
     },
     "metadata": {},
     "output_type": "display_data"
    }
   ],
   "source": [
    "fig, ax = plt.subplots(figsize=(8,6))\n",
    "ax.plot(prop_var_expl, color = 'black', linewidth=2, label='Explained variance')\n",
    "ax.axhline(0.9, label='90% goal', linestyle='--', linewidth=1)\n",
    "ax.set_ylabel('proportion of explained variance')\n",
    "ax.set_xlabel('number of principal components')\n",
    "ax.legend();"
   ]
  },
  {
   "cell_type": "markdown",
   "metadata": {},
   "source": [
    "### Around 20 principal components explains about 90% of the variance in the handwritten digits.\n",
    "So, we could train a model on just those 20 features, instead of the original 64, and do as well and maybe better!"
   ]
  },
  {
   "cell_type": "code",
   "execution_count": null,
   "metadata": {},
   "outputs": [],
   "source": []
  }
 ],
 "metadata": {
  "kernelspec": {
   "display_name": "Python 3",
   "language": "python",
   "name": "python3"
  },
  "language_info": {
   "codemirror_mode": {
    "name": "ipython",
    "version": 3
   },
   "file_extension": ".py",
   "mimetype": "text/x-python",
   "name": "python",
   "nbconvert_exporter": "python",
   "pygments_lexer": "ipython3",
   "version": "3.7.3"
  }
 },
 "nbformat": 4,
 "nbformat_minor": 2
}
